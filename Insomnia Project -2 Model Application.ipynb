{
 "cells": [
  {
   "cell_type": "code",
   "execution_count": 33,
   "id": "752ca549-f0f3-402d-bac2-545e49da4768",
   "metadata": {},
   "outputs": [],
   "source": [
    "#Issue Imbalanced Dataset as healthy rows are around 9158 and insomnia are around 10493 so add 1-2 datasets of healthy patients"
   ]
  },
  {
   "cell_type": "code",
   "execution_count": 46,
   "id": "3cef3e20-4cde-4a8a-8d50-9dece79add26",
   "metadata": {},
   "outputs": [],
   "source": [
    "from sklearn.model_selection import train_test_split\n",
    "from sklearn.ensemble import RandomForestClassifier\n",
    "from sklearn.metrics import accuracy_score, confusion_matrix, classification_report,ConfusionMatrixDisplay\n",
    "import pandas as pd\n",
    "import matplotlib.pyplot as plt"
   ]
  },
  {
   "cell_type": "code",
   "execution_count": 2,
   "id": "ff6aecf7-d4d0-433e-9914-42faecec5f18",
   "metadata": {},
   "outputs": [],
   "source": [
    "Dataset=pd.read_csv(\"InsomniafinalDataset.csv\")"
   ]
  },
  {
   "cell_type": "code",
   "execution_count": 3,
   "id": "f338a8b1-bf33-4b3d-804e-6fce37f29a54",
   "metadata": {},
   "outputs": [
    {
     "data": {
      "text/html": [
       "<div>\n",
       "<style scoped>\n",
       "    .dataframe tbody tr th:only-of-type {\n",
       "        vertical-align: middle;\n",
       "    }\n",
       "\n",
       "    .dataframe tbody tr th {\n",
       "        vertical-align: top;\n",
       "    }\n",
       "\n",
       "    .dataframe thead th {\n",
       "        text-align: right;\n",
       "    }\n",
       "</style>\n",
       "<table border=\"1\" class=\"dataframe\">\n",
       "  <thead>\n",
       "    <tr style=\"text-align: right;\">\n",
       "      <th></th>\n",
       "      <th>0</th>\n",
       "      <th>1</th>\n",
       "      <th>2</th>\n",
       "      <th>3</th>\n",
       "      <th>4</th>\n",
       "      <th>5</th>\n",
       "      <th>6</th>\n",
       "      <th>7</th>\n",
       "      <th>8</th>\n",
       "      <th>9</th>\n",
       "      <th>...</th>\n",
       "      <th>36</th>\n",
       "      <th>37</th>\n",
       "      <th>38</th>\n",
       "      <th>39</th>\n",
       "      <th>40</th>\n",
       "      <th>41</th>\n",
       "      <th>42</th>\n",
       "      <th>43</th>\n",
       "      <th>44</th>\n",
       "      <th>0.1</th>\n",
       "    </tr>\n",
       "  </thead>\n",
       "  <tbody>\n",
       "    <tr>\n",
       "      <th>1084</th>\n",
       "      <td>0.000109</td>\n",
       "      <td>-0.000125</td>\n",
       "      <td>2.016730e-07</td>\n",
       "      <td>0.000026</td>\n",
       "      <td>6.871676e-10</td>\n",
       "      <td>0.000026</td>\n",
       "      <td>-0.241034</td>\n",
       "      <td>5.216742</td>\n",
       "      <td>0.000048</td>\n",
       "      <td>-0.000053</td>\n",
       "      <td>...</td>\n",
       "      <td>9.127166e-15</td>\n",
       "      <td>9.553620e-08</td>\n",
       "      <td>-0.132718</td>\n",
       "      <td>5.141715</td>\n",
       "      <td>0.000002</td>\n",
       "      <td>0.000001</td>\n",
       "      <td>1.207571e-06</td>\n",
       "      <td>5.486685e-07</td>\n",
       "      <td>9.642032e-08</td>\n",
       "      <td>1</td>\n",
       "    </tr>\n",
       "    <tr>\n",
       "      <th>6494</th>\n",
       "      <td>0.000122</td>\n",
       "      <td>-0.000143</td>\n",
       "      <td>3.020877e-07</td>\n",
       "      <td>0.000042</td>\n",
       "      <td>1.754113e-09</td>\n",
       "      <td>0.000042</td>\n",
       "      <td>-0.198704</td>\n",
       "      <td>3.554731</td>\n",
       "      <td>0.000018</td>\n",
       "      <td>-0.000014</td>\n",
       "      <td>...</td>\n",
       "      <td>6.296289e-15</td>\n",
       "      <td>7.934916e-08</td>\n",
       "      <td>-0.000498</td>\n",
       "      <td>3.173676</td>\n",
       "      <td>0.000005</td>\n",
       "      <td>0.000001</td>\n",
       "      <td>7.897834e-07</td>\n",
       "      <td>3.503801e-07</td>\n",
       "      <td>1.141470e-07</td>\n",
       "      <td>1</td>\n",
       "    </tr>\n",
       "    <tr>\n",
       "      <th>1071</th>\n",
       "      <td>0.000196</td>\n",
       "      <td>-0.000166</td>\n",
       "      <td>2.945700e-08</td>\n",
       "      <td>0.000035</td>\n",
       "      <td>1.240415e-09</td>\n",
       "      <td>0.000035</td>\n",
       "      <td>0.188561</td>\n",
       "      <td>7.507384</td>\n",
       "      <td>0.000039</td>\n",
       "      <td>-0.000048</td>\n",
       "      <td>...</td>\n",
       "      <td>1.578525e-14</td>\n",
       "      <td>1.256394e-07</td>\n",
       "      <td>0.416601</td>\n",
       "      <td>14.888175</td>\n",
       "      <td>0.000003</td>\n",
       "      <td>0.000002</td>\n",
       "      <td>1.333486e-06</td>\n",
       "      <td>5.127590e-07</td>\n",
       "      <td>1.259722e-07</td>\n",
       "      <td>1</td>\n",
       "    </tr>\n",
       "    <tr>\n",
       "      <th>5701</th>\n",
       "      <td>0.001083</td>\n",
       "      <td>-0.001273</td>\n",
       "      <td>-4.050811e-06</td>\n",
       "      <td>0.000309</td>\n",
       "      <td>9.547890e-08</td>\n",
       "      <td>0.000309</td>\n",
       "      <td>-0.137118</td>\n",
       "      <td>5.412451</td>\n",
       "      <td>0.000126</td>\n",
       "      <td>-0.000158</td>\n",
       "      <td>...</td>\n",
       "      <td>1.821714e-13</td>\n",
       "      <td>4.268157e-07</td>\n",
       "      <td>-0.338676</td>\n",
       "      <td>8.984499</td>\n",
       "      <td>0.000034</td>\n",
       "      <td>0.000010</td>\n",
       "      <td>3.156935e-06</td>\n",
       "      <td>1.404974e-06</td>\n",
       "      <td>6.584626e-07</td>\n",
       "      <td>1</td>\n",
       "    </tr>\n",
       "    <tr>\n",
       "      <th>12269</th>\n",
       "      <td>0.000108</td>\n",
       "      <td>-0.000185</td>\n",
       "      <td>1.072184e-07</td>\n",
       "      <td>0.000027</td>\n",
       "      <td>7.313202e-10</td>\n",
       "      <td>0.000027</td>\n",
       "      <td>-1.383852</td>\n",
       "      <td>11.660513</td>\n",
       "      <td>0.000031</td>\n",
       "      <td>-0.000039</td>\n",
       "      <td>...</td>\n",
       "      <td>3.335676e-14</td>\n",
       "      <td>1.826383e-07</td>\n",
       "      <td>0.107597</td>\n",
       "      <td>5.196481</td>\n",
       "      <td>0.000003</td>\n",
       "      <td>0.000001</td>\n",
       "      <td>1.519635e-06</td>\n",
       "      <td>5.659430e-07</td>\n",
       "      <td>2.592056e-07</td>\n",
       "      <td>0</td>\n",
       "    </tr>\n",
       "    <tr>\n",
       "      <th>7365</th>\n",
       "      <td>0.000337</td>\n",
       "      <td>-0.000358</td>\n",
       "      <td>4.462872e-07</td>\n",
       "      <td>0.000065</td>\n",
       "      <td>4.182971e-09</td>\n",
       "      <td>0.000065</td>\n",
       "      <td>-0.684732</td>\n",
       "      <td>9.422606</td>\n",
       "      <td>0.000708</td>\n",
       "      <td>-0.000190</td>\n",
       "      <td>...</td>\n",
       "      <td>4.070046e-13</td>\n",
       "      <td>6.379691e-07</td>\n",
       "      <td>2.824544</td>\n",
       "      <td>176.194442</td>\n",
       "      <td>0.000006</td>\n",
       "      <td>0.000003</td>\n",
       "      <td>1.328447e-06</td>\n",
       "      <td>1.362262e-06</td>\n",
       "      <td>7.128297e-07</td>\n",
       "      <td>1</td>\n",
       "    </tr>\n",
       "    <tr>\n",
       "      <th>13237</th>\n",
       "      <td>0.000072</td>\n",
       "      <td>-0.000086</td>\n",
       "      <td>-7.892619e-08</td>\n",
       "      <td>0.000022</td>\n",
       "      <td>4.921792e-10</td>\n",
       "      <td>0.000022</td>\n",
       "      <td>-0.151550</td>\n",
       "      <td>2.967888</td>\n",
       "      <td>0.000021</td>\n",
       "      <td>-0.000031</td>\n",
       "      <td>...</td>\n",
       "      <td>3.612877e-15</td>\n",
       "      <td>6.010722e-08</td>\n",
       "      <td>-0.126705</td>\n",
       "      <td>3.433480</td>\n",
       "      <td>0.000002</td>\n",
       "      <td>0.000001</td>\n",
       "      <td>1.247854e-06</td>\n",
       "      <td>3.422346e-07</td>\n",
       "      <td>6.123995e-08</td>\n",
       "      <td>0</td>\n",
       "    </tr>\n",
       "    <tr>\n",
       "      <th>10315</th>\n",
       "      <td>0.000440</td>\n",
       "      <td>-0.000429</td>\n",
       "      <td>1.305710e-06</td>\n",
       "      <td>0.000086</td>\n",
       "      <td>7.452547e-09</td>\n",
       "      <td>0.000086</td>\n",
       "      <td>-0.013889</td>\n",
       "      <td>10.406747</td>\n",
       "      <td>0.000040</td>\n",
       "      <td>-0.000033</td>\n",
       "      <td>...</td>\n",
       "      <td>2.322045e-14</td>\n",
       "      <td>1.523826e-07</td>\n",
       "      <td>-0.011965</td>\n",
       "      <td>3.999345</td>\n",
       "      <td>0.000007</td>\n",
       "      <td>0.000002</td>\n",
       "      <td>1.505635e-06</td>\n",
       "      <td>5.442851e-07</td>\n",
       "      <td>2.350048e-07</td>\n",
       "      <td>1</td>\n",
       "    </tr>\n",
       "    <tr>\n",
       "      <th>3905</th>\n",
       "      <td>0.002098</td>\n",
       "      <td>-0.002600</td>\n",
       "      <td>-1.250113e-05</td>\n",
       "      <td>0.000588</td>\n",
       "      <td>3.453537e-07</td>\n",
       "      <td>0.000588</td>\n",
       "      <td>-0.585324</td>\n",
       "      <td>5.833111</td>\n",
       "      <td>0.000175</td>\n",
       "      <td>-0.000240</td>\n",
       "      <td>...</td>\n",
       "      <td>5.148311e-13</td>\n",
       "      <td>7.175173e-07</td>\n",
       "      <td>0.125461</td>\n",
       "      <td>14.400394</td>\n",
       "      <td>0.000065</td>\n",
       "      <td>0.000018</td>\n",
       "      <td>5.409298e-06</td>\n",
       "      <td>2.237024e-06</td>\n",
       "      <td>8.294690e-07</td>\n",
       "      <td>1</td>\n",
       "    </tr>\n",
       "    <tr>\n",
       "      <th>13761</th>\n",
       "      <td>0.000215</td>\n",
       "      <td>-0.000106</td>\n",
       "      <td>2.063162e-08</td>\n",
       "      <td>0.000035</td>\n",
       "      <td>1.226287e-09</td>\n",
       "      <td>0.000035</td>\n",
       "      <td>0.526538</td>\n",
       "      <td>7.213128</td>\n",
       "      <td>0.000017</td>\n",
       "      <td>-0.000016</td>\n",
       "      <td>...</td>\n",
       "      <td>2.103996e-15</td>\n",
       "      <td>4.586934e-08</td>\n",
       "      <td>-0.063541</td>\n",
       "      <td>3.757744</td>\n",
       "      <td>0.000004</td>\n",
       "      <td>0.000002</td>\n",
       "      <td>9.149135e-07</td>\n",
       "      <td>2.358470e-07</td>\n",
       "      <td>5.293851e-08</td>\n",
       "      <td>0</td>\n",
       "    </tr>\n",
       "  </tbody>\n",
       "</table>\n",
       "<p>10 rows × 46 columns</p>\n",
       "</div>"
      ],
      "text/plain": [
       "              0         1             2         3             4         5  \\\n",
       "1084   0.000109 -0.000125  2.016730e-07  0.000026  6.871676e-10  0.000026   \n",
       "6494   0.000122 -0.000143  3.020877e-07  0.000042  1.754113e-09  0.000042   \n",
       "1071   0.000196 -0.000166  2.945700e-08  0.000035  1.240415e-09  0.000035   \n",
       "5701   0.001083 -0.001273 -4.050811e-06  0.000309  9.547890e-08  0.000309   \n",
       "12269  0.000108 -0.000185  1.072184e-07  0.000027  7.313202e-10  0.000027   \n",
       "7365   0.000337 -0.000358  4.462872e-07  0.000065  4.182971e-09  0.000065   \n",
       "13237  0.000072 -0.000086 -7.892619e-08  0.000022  4.921792e-10  0.000022   \n",
       "10315  0.000440 -0.000429  1.305710e-06  0.000086  7.452547e-09  0.000086   \n",
       "3905   0.002098 -0.002600 -1.250113e-05  0.000588  3.453537e-07  0.000588   \n",
       "13761  0.000215 -0.000106  2.063162e-08  0.000035  1.226287e-09  0.000035   \n",
       "\n",
       "              6          7         8         9  ...            36  \\\n",
       "1084  -0.241034   5.216742  0.000048 -0.000053  ...  9.127166e-15   \n",
       "6494  -0.198704   3.554731  0.000018 -0.000014  ...  6.296289e-15   \n",
       "1071   0.188561   7.507384  0.000039 -0.000048  ...  1.578525e-14   \n",
       "5701  -0.137118   5.412451  0.000126 -0.000158  ...  1.821714e-13   \n",
       "12269 -1.383852  11.660513  0.000031 -0.000039  ...  3.335676e-14   \n",
       "7365  -0.684732   9.422606  0.000708 -0.000190  ...  4.070046e-13   \n",
       "13237 -0.151550   2.967888  0.000021 -0.000031  ...  3.612877e-15   \n",
       "10315 -0.013889  10.406747  0.000040 -0.000033  ...  2.322045e-14   \n",
       "3905  -0.585324   5.833111  0.000175 -0.000240  ...  5.148311e-13   \n",
       "13761  0.526538   7.213128  0.000017 -0.000016  ...  2.103996e-15   \n",
       "\n",
       "                 37        38          39        40        41            42  \\\n",
       "1084   9.553620e-08 -0.132718    5.141715  0.000002  0.000001  1.207571e-06   \n",
       "6494   7.934916e-08 -0.000498    3.173676  0.000005  0.000001  7.897834e-07   \n",
       "1071   1.256394e-07  0.416601   14.888175  0.000003  0.000002  1.333486e-06   \n",
       "5701   4.268157e-07 -0.338676    8.984499  0.000034  0.000010  3.156935e-06   \n",
       "12269  1.826383e-07  0.107597    5.196481  0.000003  0.000001  1.519635e-06   \n",
       "7365   6.379691e-07  2.824544  176.194442  0.000006  0.000003  1.328447e-06   \n",
       "13237  6.010722e-08 -0.126705    3.433480  0.000002  0.000001  1.247854e-06   \n",
       "10315  1.523826e-07 -0.011965    3.999345  0.000007  0.000002  1.505635e-06   \n",
       "3905   7.175173e-07  0.125461   14.400394  0.000065  0.000018  5.409298e-06   \n",
       "13761  4.586934e-08 -0.063541    3.757744  0.000004  0.000002  9.149135e-07   \n",
       "\n",
       "                 43            44  0.1  \n",
       "1084   5.486685e-07  9.642032e-08    1  \n",
       "6494   3.503801e-07  1.141470e-07    1  \n",
       "1071   5.127590e-07  1.259722e-07    1  \n",
       "5701   1.404974e-06  6.584626e-07    1  \n",
       "12269  5.659430e-07  2.592056e-07    0  \n",
       "7365   1.362262e-06  7.128297e-07    1  \n",
       "13237  3.422346e-07  6.123995e-08    0  \n",
       "10315  5.442851e-07  2.350048e-07    1  \n",
       "3905   2.237024e-06  8.294690e-07    1  \n",
       "13761  2.358470e-07  5.293851e-08    0  \n",
       "\n",
       "[10 rows x 46 columns]"
      ]
     },
     "execution_count": 3,
     "metadata": {},
     "output_type": "execute_result"
    }
   ],
   "source": [
    "Dataset.sample(10)"
   ]
  },
  {
   "cell_type": "markdown",
   "id": "c03ec363-43b3-48e2-b9d9-b3ab78a17103",
   "metadata": {},
   "source": [
    "<h2>Data Splitting</h2>"
   ]
  },
  {
   "cell_type": "code",
   "execution_count": 4,
   "id": "5b2c2bb8-7a69-4cf5-b8b6-02a9939c5c60",
   "metadata": {},
   "outputs": [],
   "source": [
    "X=Dataset.iloc[:,:-1]\n",
    "Y=Dataset.iloc[:,-1]"
   ]
  },
  {
   "cell_type": "code",
   "execution_count": 5,
   "id": "c72ac392-925e-4363-8b79-bdf897787623",
   "metadata": {},
   "outputs": [
    {
     "data": {
      "text/plain": [
       "0        1\n",
       "1        1\n",
       "2        1\n",
       "3        1\n",
       "4        1\n",
       "        ..\n",
       "19646    0\n",
       "19647    0\n",
       "19648    0\n",
       "19649    0\n",
       "19650    0\n",
       "Name: 0.1, Length: 19651, dtype: int64"
      ]
     },
     "execution_count": 5,
     "metadata": {},
     "output_type": "execute_result"
    }
   ],
   "source": [
    "Y"
   ]
  },
  {
   "cell_type": "code",
   "execution_count": 6,
   "id": "42d2e647-30d6-4265-a129-d75f758de9d7",
   "metadata": {},
   "outputs": [],
   "source": [
    "X_train,X_test,Y_train,Y_test=train_test_split(X,Y,test_size=0.2,random_state=2)"
   ]
  },
  {
   "cell_type": "markdown",
   "id": "b3a369c9-43e9-4c3a-8213-1c629f7db982",
   "metadata": {},
   "source": [
    "<h1>Model Implementation- RandomForestClassifier</h1>"
   ]
  },
  {
   "cell_type": "code",
   "execution_count": 7,
   "id": "a1be7d66-322e-470e-9c50-283396690f41",
   "metadata": {},
   "outputs": [
    {
     "data": {
      "text/html": [
       "<style>#sk-container-id-1 {color: black;background-color: white;}#sk-container-id-1 pre{padding: 0;}#sk-container-id-1 div.sk-toggleable {background-color: white;}#sk-container-id-1 label.sk-toggleable__label {cursor: pointer;display: block;width: 100%;margin-bottom: 0;padding: 0.3em;box-sizing: border-box;text-align: center;}#sk-container-id-1 label.sk-toggleable__label-arrow:before {content: \"▸\";float: left;margin-right: 0.25em;color: #696969;}#sk-container-id-1 label.sk-toggleable__label-arrow:hover:before {color: black;}#sk-container-id-1 div.sk-estimator:hover label.sk-toggleable__label-arrow:before {color: black;}#sk-container-id-1 div.sk-toggleable__content {max-height: 0;max-width: 0;overflow: hidden;text-align: left;background-color: #f0f8ff;}#sk-container-id-1 div.sk-toggleable__content pre {margin: 0.2em;color: black;border-radius: 0.25em;background-color: #f0f8ff;}#sk-container-id-1 input.sk-toggleable__control:checked~div.sk-toggleable__content {max-height: 200px;max-width: 100%;overflow: auto;}#sk-container-id-1 input.sk-toggleable__control:checked~label.sk-toggleable__label-arrow:before {content: \"▾\";}#sk-container-id-1 div.sk-estimator input.sk-toggleable__control:checked~label.sk-toggleable__label {background-color: #d4ebff;}#sk-container-id-1 div.sk-label input.sk-toggleable__control:checked~label.sk-toggleable__label {background-color: #d4ebff;}#sk-container-id-1 input.sk-hidden--visually {border: 0;clip: rect(1px 1px 1px 1px);clip: rect(1px, 1px, 1px, 1px);height: 1px;margin: -1px;overflow: hidden;padding: 0;position: absolute;width: 1px;}#sk-container-id-1 div.sk-estimator {font-family: monospace;background-color: #f0f8ff;border: 1px dotted black;border-radius: 0.25em;box-sizing: border-box;margin-bottom: 0.5em;}#sk-container-id-1 div.sk-estimator:hover {background-color: #d4ebff;}#sk-container-id-1 div.sk-parallel-item::after {content: \"\";width: 100%;border-bottom: 1px solid gray;flex-grow: 1;}#sk-container-id-1 div.sk-label:hover label.sk-toggleable__label {background-color: #d4ebff;}#sk-container-id-1 div.sk-serial::before {content: \"\";position: absolute;border-left: 1px solid gray;box-sizing: border-box;top: 0;bottom: 0;left: 50%;z-index: 0;}#sk-container-id-1 div.sk-serial {display: flex;flex-direction: column;align-items: center;background-color: white;padding-right: 0.2em;padding-left: 0.2em;position: relative;}#sk-container-id-1 div.sk-item {position: relative;z-index: 1;}#sk-container-id-1 div.sk-parallel {display: flex;align-items: stretch;justify-content: center;background-color: white;position: relative;}#sk-container-id-1 div.sk-item::before, #sk-container-id-1 div.sk-parallel-item::before {content: \"\";position: absolute;border-left: 1px solid gray;box-sizing: border-box;top: 0;bottom: 0;left: 50%;z-index: -1;}#sk-container-id-1 div.sk-parallel-item {display: flex;flex-direction: column;z-index: 1;position: relative;background-color: white;}#sk-container-id-1 div.sk-parallel-item:first-child::after {align-self: flex-end;width: 50%;}#sk-container-id-1 div.sk-parallel-item:last-child::after {align-self: flex-start;width: 50%;}#sk-container-id-1 div.sk-parallel-item:only-child::after {width: 0;}#sk-container-id-1 div.sk-dashed-wrapped {border: 1px dashed gray;margin: 0 0.4em 0.5em 0.4em;box-sizing: border-box;padding-bottom: 0.4em;background-color: white;}#sk-container-id-1 div.sk-label label {font-family: monospace;font-weight: bold;display: inline-block;line-height: 1.2em;}#sk-container-id-1 div.sk-label-container {text-align: center;}#sk-container-id-1 div.sk-container {/* jupyter's `normalize.less` sets `[hidden] { display: none; }` but bootstrap.min.css set `[hidden] { display: none !important; }` so we also need the `!important` here to be able to override the default hidden behavior on the sphinx rendered scikit-learn.org. See: https://github.com/scikit-learn/scikit-learn/issues/21755 */display: inline-block !important;position: relative;}#sk-container-id-1 div.sk-text-repr-fallback {display: none;}</style><div id=\"sk-container-id-1\" class=\"sk-top-container\"><div class=\"sk-text-repr-fallback\"><pre>RandomForestClassifier()</pre><b>In a Jupyter environment, please rerun this cell to show the HTML representation or trust the notebook. <br />On GitHub, the HTML representation is unable to render, please try loading this page with nbviewer.org.</b></div><div class=\"sk-container\" hidden><div class=\"sk-item\"><div class=\"sk-estimator sk-toggleable\"><input class=\"sk-toggleable__control sk-hidden--visually\" id=\"sk-estimator-id-1\" type=\"checkbox\" checked><label for=\"sk-estimator-id-1\" class=\"sk-toggleable__label sk-toggleable__label-arrow\">RandomForestClassifier</label><div class=\"sk-toggleable__content\"><pre>RandomForestClassifier()</pre></div></div></div></div></div>"
      ],
      "text/plain": [
       "RandomForestClassifier()"
      ]
     },
     "execution_count": 7,
     "metadata": {},
     "output_type": "execute_result"
    }
   ],
   "source": [
    "rfc=RandomForestClassifier()\n",
    "rfc.fit(X_train,Y_train)"
   ]
  },
  {
   "cell_type": "code",
   "execution_count": 8,
   "id": "ec7e2e5a-5a44-4216-94c8-393f2095ef9b",
   "metadata": {},
   "outputs": [],
   "source": [
    "Y_pred=rfc.predict(X_test)"
   ]
  },
  {
   "cell_type": "code",
   "execution_count": 9,
   "id": "144ff34b-f116-4085-80ce-77b7c9138c3a",
   "metadata": {},
   "outputs": [],
   "source": [
    "accuracy=accuracy_score(Y_test,Y_pred)"
   ]
  },
  {
   "cell_type": "code",
   "execution_count": 10,
   "id": "a0c0a48b-f73b-40d3-9932-1c6e789afc1f",
   "metadata": {},
   "outputs": [
    {
     "data": {
      "text/plain": [
       "0.8888323581785805"
      ]
     },
     "execution_count": 10,
     "metadata": {},
     "output_type": "execute_result"
    }
   ],
   "source": [
    "accuracy"
   ]
  },
  {
   "cell_type": "markdown",
   "id": "8e8b0ff8-f135-4e1d-91fb-2fca67ae4e7c",
   "metadata": {},
   "source": [
    "<h1>Model Implementation- Logistic regression</h1>"
   ]
  },
  {
   "cell_type": "code",
   "execution_count": 11,
   "id": "e072388e-d9c9-4fd2-9a16-1d4501994e0c",
   "metadata": {},
   "outputs": [],
   "source": [
    "from sklearn.linear_model import LogisticRegression"
   ]
  },
  {
   "cell_type": "code",
   "execution_count": 12,
   "id": "8560b439-752c-4a37-90e1-d1835e3e6d91",
   "metadata": {},
   "outputs": [
    {
     "data": {
      "text/html": [
       "<style>#sk-container-id-2 {color: black;background-color: white;}#sk-container-id-2 pre{padding: 0;}#sk-container-id-2 div.sk-toggleable {background-color: white;}#sk-container-id-2 label.sk-toggleable__label {cursor: pointer;display: block;width: 100%;margin-bottom: 0;padding: 0.3em;box-sizing: border-box;text-align: center;}#sk-container-id-2 label.sk-toggleable__label-arrow:before {content: \"▸\";float: left;margin-right: 0.25em;color: #696969;}#sk-container-id-2 label.sk-toggleable__label-arrow:hover:before {color: black;}#sk-container-id-2 div.sk-estimator:hover label.sk-toggleable__label-arrow:before {color: black;}#sk-container-id-2 div.sk-toggleable__content {max-height: 0;max-width: 0;overflow: hidden;text-align: left;background-color: #f0f8ff;}#sk-container-id-2 div.sk-toggleable__content pre {margin: 0.2em;color: black;border-radius: 0.25em;background-color: #f0f8ff;}#sk-container-id-2 input.sk-toggleable__control:checked~div.sk-toggleable__content {max-height: 200px;max-width: 100%;overflow: auto;}#sk-container-id-2 input.sk-toggleable__control:checked~label.sk-toggleable__label-arrow:before {content: \"▾\";}#sk-container-id-2 div.sk-estimator input.sk-toggleable__control:checked~label.sk-toggleable__label {background-color: #d4ebff;}#sk-container-id-2 div.sk-label input.sk-toggleable__control:checked~label.sk-toggleable__label {background-color: #d4ebff;}#sk-container-id-2 input.sk-hidden--visually {border: 0;clip: rect(1px 1px 1px 1px);clip: rect(1px, 1px, 1px, 1px);height: 1px;margin: -1px;overflow: hidden;padding: 0;position: absolute;width: 1px;}#sk-container-id-2 div.sk-estimator {font-family: monospace;background-color: #f0f8ff;border: 1px dotted black;border-radius: 0.25em;box-sizing: border-box;margin-bottom: 0.5em;}#sk-container-id-2 div.sk-estimator:hover {background-color: #d4ebff;}#sk-container-id-2 div.sk-parallel-item::after {content: \"\";width: 100%;border-bottom: 1px solid gray;flex-grow: 1;}#sk-container-id-2 div.sk-label:hover label.sk-toggleable__label {background-color: #d4ebff;}#sk-container-id-2 div.sk-serial::before {content: \"\";position: absolute;border-left: 1px solid gray;box-sizing: border-box;top: 0;bottom: 0;left: 50%;z-index: 0;}#sk-container-id-2 div.sk-serial {display: flex;flex-direction: column;align-items: center;background-color: white;padding-right: 0.2em;padding-left: 0.2em;position: relative;}#sk-container-id-2 div.sk-item {position: relative;z-index: 1;}#sk-container-id-2 div.sk-parallel {display: flex;align-items: stretch;justify-content: center;background-color: white;position: relative;}#sk-container-id-2 div.sk-item::before, #sk-container-id-2 div.sk-parallel-item::before {content: \"\";position: absolute;border-left: 1px solid gray;box-sizing: border-box;top: 0;bottom: 0;left: 50%;z-index: -1;}#sk-container-id-2 div.sk-parallel-item {display: flex;flex-direction: column;z-index: 1;position: relative;background-color: white;}#sk-container-id-2 div.sk-parallel-item:first-child::after {align-self: flex-end;width: 50%;}#sk-container-id-2 div.sk-parallel-item:last-child::after {align-self: flex-start;width: 50%;}#sk-container-id-2 div.sk-parallel-item:only-child::after {width: 0;}#sk-container-id-2 div.sk-dashed-wrapped {border: 1px dashed gray;margin: 0 0.4em 0.5em 0.4em;box-sizing: border-box;padding-bottom: 0.4em;background-color: white;}#sk-container-id-2 div.sk-label label {font-family: monospace;font-weight: bold;display: inline-block;line-height: 1.2em;}#sk-container-id-2 div.sk-label-container {text-align: center;}#sk-container-id-2 div.sk-container {/* jupyter's `normalize.less` sets `[hidden] { display: none; }` but bootstrap.min.css set `[hidden] { display: none !important; }` so we also need the `!important` here to be able to override the default hidden behavior on the sphinx rendered scikit-learn.org. See: https://github.com/scikit-learn/scikit-learn/issues/21755 */display: inline-block !important;position: relative;}#sk-container-id-2 div.sk-text-repr-fallback {display: none;}</style><div id=\"sk-container-id-2\" class=\"sk-top-container\"><div class=\"sk-text-repr-fallback\"><pre>LogisticRegression()</pre><b>In a Jupyter environment, please rerun this cell to show the HTML representation or trust the notebook. <br />On GitHub, the HTML representation is unable to render, please try loading this page with nbviewer.org.</b></div><div class=\"sk-container\" hidden><div class=\"sk-item\"><div class=\"sk-estimator sk-toggleable\"><input class=\"sk-toggleable__control sk-hidden--visually\" id=\"sk-estimator-id-2\" type=\"checkbox\" checked><label for=\"sk-estimator-id-2\" class=\"sk-toggleable__label sk-toggleable__label-arrow\">LogisticRegression</label><div class=\"sk-toggleable__content\"><pre>LogisticRegression()</pre></div></div></div></div></div>"
      ],
      "text/plain": [
       "LogisticRegression()"
      ]
     },
     "execution_count": 12,
     "metadata": {},
     "output_type": "execute_result"
    }
   ],
   "source": [
    "lr=LogisticRegression()\n",
    "lr.fit(X_train,Y_train)"
   ]
  },
  {
   "cell_type": "code",
   "execution_count": 13,
   "id": "edb1548c-e3fb-4100-beb2-cdafed840d6d",
   "metadata": {},
   "outputs": [],
   "source": [
    "Y_predlr=lr.predict(X_test)"
   ]
  },
  {
   "cell_type": "code",
   "execution_count": 14,
   "id": "f275faa4-e560-48ef-ad8f-d2801eb5d96d",
   "metadata": {},
   "outputs": [],
   "source": [
    "acclr=accuracy_score(Y_test,Y_predlr)"
   ]
  },
  {
   "cell_type": "code",
   "execution_count": 15,
   "id": "7b8d8415-ae6a-4e84-9754-7329ebfc29b5",
   "metadata": {},
   "outputs": [
    {
     "data": {
      "text/plain": [
       "0.5866191808700076"
      ]
     },
     "execution_count": 15,
     "metadata": {},
     "output_type": "execute_result"
    }
   ],
   "source": [
    "acclr"
   ]
  },
  {
   "cell_type": "markdown",
   "id": "993cffaf-b52d-4b22-bdd4-58abc9eef70b",
   "metadata": {},
   "source": [
    "<h1>Scaling and Scaled Models</h1>"
   ]
  },
  {
   "cell_type": "code",
   "execution_count": 16,
   "id": "2e868fa4-32a1-4e19-a7d4-6152c65489bd",
   "metadata": {},
   "outputs": [],
   "source": [
    "from sklearn.preprocessing import StandardScaler"
   ]
  },
  {
   "cell_type": "code",
   "execution_count": 17,
   "id": "a29ca5b7-d836-41c8-aef0-dff89d56d2d0",
   "metadata": {},
   "outputs": [],
   "source": [
    "ss=StandardScaler()"
   ]
  },
  {
   "cell_type": "code",
   "execution_count": 18,
   "id": "62708db8-9167-43d0-8651-97a88ed1ebbd",
   "metadata": {},
   "outputs": [],
   "source": [
    "DatasetScaled=ss.fit_transform(Dataset.iloc[:,:-1])"
   ]
  },
  {
   "cell_type": "code",
   "execution_count": 19,
   "id": "fb82faab-58ea-4bce-9da4-e131d246fbd7",
   "metadata": {},
   "outputs": [],
   "source": [
    "X_trainscaled,X_testscaled,Y_train,Y_test=train_test_split(DatasetScaled,Y,test_size=0.2,random_state=2)"
   ]
  },
  {
   "cell_type": "markdown",
   "id": "ffa9e211-69ce-4a6a-b3a2-43c312b2b17d",
   "metadata": {},
   "source": [
    "<h3>Random Forest Scaled</h3>"
   ]
  },
  {
   "cell_type": "code",
   "execution_count": 20,
   "id": "eaabddad-590b-480f-9b55-9d6199c216e9",
   "metadata": {},
   "outputs": [],
   "source": [
    "rf=RandomForestClassifier()"
   ]
  },
  {
   "cell_type": "code",
   "execution_count": 21,
   "id": "b9f5e70e-430e-40d2-bc6e-2d60cf821f7d",
   "metadata": {},
   "outputs": [
    {
     "data": {
      "text/html": [
       "<style>#sk-container-id-3 {color: black;background-color: white;}#sk-container-id-3 pre{padding: 0;}#sk-container-id-3 div.sk-toggleable {background-color: white;}#sk-container-id-3 label.sk-toggleable__label {cursor: pointer;display: block;width: 100%;margin-bottom: 0;padding: 0.3em;box-sizing: border-box;text-align: center;}#sk-container-id-3 label.sk-toggleable__label-arrow:before {content: \"▸\";float: left;margin-right: 0.25em;color: #696969;}#sk-container-id-3 label.sk-toggleable__label-arrow:hover:before {color: black;}#sk-container-id-3 div.sk-estimator:hover label.sk-toggleable__label-arrow:before {color: black;}#sk-container-id-3 div.sk-toggleable__content {max-height: 0;max-width: 0;overflow: hidden;text-align: left;background-color: #f0f8ff;}#sk-container-id-3 div.sk-toggleable__content pre {margin: 0.2em;color: black;border-radius: 0.25em;background-color: #f0f8ff;}#sk-container-id-3 input.sk-toggleable__control:checked~div.sk-toggleable__content {max-height: 200px;max-width: 100%;overflow: auto;}#sk-container-id-3 input.sk-toggleable__control:checked~label.sk-toggleable__label-arrow:before {content: \"▾\";}#sk-container-id-3 div.sk-estimator input.sk-toggleable__control:checked~label.sk-toggleable__label {background-color: #d4ebff;}#sk-container-id-3 div.sk-label input.sk-toggleable__control:checked~label.sk-toggleable__label {background-color: #d4ebff;}#sk-container-id-3 input.sk-hidden--visually {border: 0;clip: rect(1px 1px 1px 1px);clip: rect(1px, 1px, 1px, 1px);height: 1px;margin: -1px;overflow: hidden;padding: 0;position: absolute;width: 1px;}#sk-container-id-3 div.sk-estimator {font-family: monospace;background-color: #f0f8ff;border: 1px dotted black;border-radius: 0.25em;box-sizing: border-box;margin-bottom: 0.5em;}#sk-container-id-3 div.sk-estimator:hover {background-color: #d4ebff;}#sk-container-id-3 div.sk-parallel-item::after {content: \"\";width: 100%;border-bottom: 1px solid gray;flex-grow: 1;}#sk-container-id-3 div.sk-label:hover label.sk-toggleable__label {background-color: #d4ebff;}#sk-container-id-3 div.sk-serial::before {content: \"\";position: absolute;border-left: 1px solid gray;box-sizing: border-box;top: 0;bottom: 0;left: 50%;z-index: 0;}#sk-container-id-3 div.sk-serial {display: flex;flex-direction: column;align-items: center;background-color: white;padding-right: 0.2em;padding-left: 0.2em;position: relative;}#sk-container-id-3 div.sk-item {position: relative;z-index: 1;}#sk-container-id-3 div.sk-parallel {display: flex;align-items: stretch;justify-content: center;background-color: white;position: relative;}#sk-container-id-3 div.sk-item::before, #sk-container-id-3 div.sk-parallel-item::before {content: \"\";position: absolute;border-left: 1px solid gray;box-sizing: border-box;top: 0;bottom: 0;left: 50%;z-index: -1;}#sk-container-id-3 div.sk-parallel-item {display: flex;flex-direction: column;z-index: 1;position: relative;background-color: white;}#sk-container-id-3 div.sk-parallel-item:first-child::after {align-self: flex-end;width: 50%;}#sk-container-id-3 div.sk-parallel-item:last-child::after {align-self: flex-start;width: 50%;}#sk-container-id-3 div.sk-parallel-item:only-child::after {width: 0;}#sk-container-id-3 div.sk-dashed-wrapped {border: 1px dashed gray;margin: 0 0.4em 0.5em 0.4em;box-sizing: border-box;padding-bottom: 0.4em;background-color: white;}#sk-container-id-3 div.sk-label label {font-family: monospace;font-weight: bold;display: inline-block;line-height: 1.2em;}#sk-container-id-3 div.sk-label-container {text-align: center;}#sk-container-id-3 div.sk-container {/* jupyter's `normalize.less` sets `[hidden] { display: none; }` but bootstrap.min.css set `[hidden] { display: none !important; }` so we also need the `!important` here to be able to override the default hidden behavior on the sphinx rendered scikit-learn.org. See: https://github.com/scikit-learn/scikit-learn/issues/21755 */display: inline-block !important;position: relative;}#sk-container-id-3 div.sk-text-repr-fallback {display: none;}</style><div id=\"sk-container-id-3\" class=\"sk-top-container\"><div class=\"sk-text-repr-fallback\"><pre>RandomForestClassifier()</pre><b>In a Jupyter environment, please rerun this cell to show the HTML representation or trust the notebook. <br />On GitHub, the HTML representation is unable to render, please try loading this page with nbviewer.org.</b></div><div class=\"sk-container\" hidden><div class=\"sk-item\"><div class=\"sk-estimator sk-toggleable\"><input class=\"sk-toggleable__control sk-hidden--visually\" id=\"sk-estimator-id-3\" type=\"checkbox\" checked><label for=\"sk-estimator-id-3\" class=\"sk-toggleable__label sk-toggleable__label-arrow\">RandomForestClassifier</label><div class=\"sk-toggleable__content\"><pre>RandomForestClassifier()</pre></div></div></div></div></div>"
      ],
      "text/plain": [
       "RandomForestClassifier()"
      ]
     },
     "execution_count": 21,
     "metadata": {},
     "output_type": "execute_result"
    }
   ],
   "source": [
    "rf.fit(X_trainscaled,Y_train)"
   ]
  },
  {
   "cell_type": "code",
   "execution_count": 22,
   "id": "6f8642f9-0d1e-47ea-aee9-1724093d5428",
   "metadata": {},
   "outputs": [],
   "source": [
    "Y_predscaledrf=rf.predict(X_testscaled)"
   ]
  },
  {
   "cell_type": "code",
   "execution_count": 23,
   "id": "c4f69078-4d39-4ee1-913c-e3f10c1977c1",
   "metadata": {},
   "outputs": [],
   "source": [
    "accscaledrf=accuracy_score(Y_test,Y_predscaledrf)"
   ]
  },
  {
   "cell_type": "code",
   "execution_count": 24,
   "id": "e06666ec-f836-422f-99a0-bf12f6a0a237",
   "metadata": {},
   "outputs": [
    {
     "data": {
      "text/plain": [
       "0.9262274230475706"
      ]
     },
     "execution_count": 24,
     "metadata": {},
     "output_type": "execute_result"
    }
   ],
   "source": [
    "accscaledrf"
   ]
  },
  {
   "cell_type": "markdown",
   "id": "2a13ca1c-c9db-4315-ace0-fe0266e51c36",
   "metadata": {},
   "source": [
    "<h3>Logistic Regression Scaled</h3>"
   ]
  },
  {
   "cell_type": "code",
   "execution_count": 25,
   "id": "4ebe0ca6-9f40-4625-ad49-c38b68b28b2f",
   "metadata": {},
   "outputs": [],
   "source": [
    "lrnew=LogisticRegression()"
   ]
  },
  {
   "cell_type": "code",
   "execution_count": 26,
   "id": "b46e43e5-e4ee-47a9-8910-da5a5889d172",
   "metadata": {},
   "outputs": [
    {
     "name": "stderr",
     "output_type": "stream",
     "text": [
      "C:\\Users\\karti\\anaconda3\\Lib\\site-packages\\sklearn\\linear_model\\_logistic.py:458: ConvergenceWarning: lbfgs failed to converge (status=1):\n",
      "STOP: TOTAL NO. of ITERATIONS REACHED LIMIT.\n",
      "\n",
      "Increase the number of iterations (max_iter) or scale the data as shown in:\n",
      "    https://scikit-learn.org/stable/modules/preprocessing.html\n",
      "Please also refer to the documentation for alternative solver options:\n",
      "    https://scikit-learn.org/stable/modules/linear_model.html#logistic-regression\n",
      "  n_iter_i = _check_optimize_result(\n"
     ]
    },
    {
     "data": {
      "text/html": [
       "<style>#sk-container-id-4 {color: black;background-color: white;}#sk-container-id-4 pre{padding: 0;}#sk-container-id-4 div.sk-toggleable {background-color: white;}#sk-container-id-4 label.sk-toggleable__label {cursor: pointer;display: block;width: 100%;margin-bottom: 0;padding: 0.3em;box-sizing: border-box;text-align: center;}#sk-container-id-4 label.sk-toggleable__label-arrow:before {content: \"▸\";float: left;margin-right: 0.25em;color: #696969;}#sk-container-id-4 label.sk-toggleable__label-arrow:hover:before {color: black;}#sk-container-id-4 div.sk-estimator:hover label.sk-toggleable__label-arrow:before {color: black;}#sk-container-id-4 div.sk-toggleable__content {max-height: 0;max-width: 0;overflow: hidden;text-align: left;background-color: #f0f8ff;}#sk-container-id-4 div.sk-toggleable__content pre {margin: 0.2em;color: black;border-radius: 0.25em;background-color: #f0f8ff;}#sk-container-id-4 input.sk-toggleable__control:checked~div.sk-toggleable__content {max-height: 200px;max-width: 100%;overflow: auto;}#sk-container-id-4 input.sk-toggleable__control:checked~label.sk-toggleable__label-arrow:before {content: \"▾\";}#sk-container-id-4 div.sk-estimator input.sk-toggleable__control:checked~label.sk-toggleable__label {background-color: #d4ebff;}#sk-container-id-4 div.sk-label input.sk-toggleable__control:checked~label.sk-toggleable__label {background-color: #d4ebff;}#sk-container-id-4 input.sk-hidden--visually {border: 0;clip: rect(1px 1px 1px 1px);clip: rect(1px, 1px, 1px, 1px);height: 1px;margin: -1px;overflow: hidden;padding: 0;position: absolute;width: 1px;}#sk-container-id-4 div.sk-estimator {font-family: monospace;background-color: #f0f8ff;border: 1px dotted black;border-radius: 0.25em;box-sizing: border-box;margin-bottom: 0.5em;}#sk-container-id-4 div.sk-estimator:hover {background-color: #d4ebff;}#sk-container-id-4 div.sk-parallel-item::after {content: \"\";width: 100%;border-bottom: 1px solid gray;flex-grow: 1;}#sk-container-id-4 div.sk-label:hover label.sk-toggleable__label {background-color: #d4ebff;}#sk-container-id-4 div.sk-serial::before {content: \"\";position: absolute;border-left: 1px solid gray;box-sizing: border-box;top: 0;bottom: 0;left: 50%;z-index: 0;}#sk-container-id-4 div.sk-serial {display: flex;flex-direction: column;align-items: center;background-color: white;padding-right: 0.2em;padding-left: 0.2em;position: relative;}#sk-container-id-4 div.sk-item {position: relative;z-index: 1;}#sk-container-id-4 div.sk-parallel {display: flex;align-items: stretch;justify-content: center;background-color: white;position: relative;}#sk-container-id-4 div.sk-item::before, #sk-container-id-4 div.sk-parallel-item::before {content: \"\";position: absolute;border-left: 1px solid gray;box-sizing: border-box;top: 0;bottom: 0;left: 50%;z-index: -1;}#sk-container-id-4 div.sk-parallel-item {display: flex;flex-direction: column;z-index: 1;position: relative;background-color: white;}#sk-container-id-4 div.sk-parallel-item:first-child::after {align-self: flex-end;width: 50%;}#sk-container-id-4 div.sk-parallel-item:last-child::after {align-self: flex-start;width: 50%;}#sk-container-id-4 div.sk-parallel-item:only-child::after {width: 0;}#sk-container-id-4 div.sk-dashed-wrapped {border: 1px dashed gray;margin: 0 0.4em 0.5em 0.4em;box-sizing: border-box;padding-bottom: 0.4em;background-color: white;}#sk-container-id-4 div.sk-label label {font-family: monospace;font-weight: bold;display: inline-block;line-height: 1.2em;}#sk-container-id-4 div.sk-label-container {text-align: center;}#sk-container-id-4 div.sk-container {/* jupyter's `normalize.less` sets `[hidden] { display: none; }` but bootstrap.min.css set `[hidden] { display: none !important; }` so we also need the `!important` here to be able to override the default hidden behavior on the sphinx rendered scikit-learn.org. See: https://github.com/scikit-learn/scikit-learn/issues/21755 */display: inline-block !important;position: relative;}#sk-container-id-4 div.sk-text-repr-fallback {display: none;}</style><div id=\"sk-container-id-4\" class=\"sk-top-container\"><div class=\"sk-text-repr-fallback\"><pre>LogisticRegression()</pre><b>In a Jupyter environment, please rerun this cell to show the HTML representation or trust the notebook. <br />On GitHub, the HTML representation is unable to render, please try loading this page with nbviewer.org.</b></div><div class=\"sk-container\" hidden><div class=\"sk-item\"><div class=\"sk-estimator sk-toggleable\"><input class=\"sk-toggleable__control sk-hidden--visually\" id=\"sk-estimator-id-4\" type=\"checkbox\" checked><label for=\"sk-estimator-id-4\" class=\"sk-toggleable__label sk-toggleable__label-arrow\">LogisticRegression</label><div class=\"sk-toggleable__content\"><pre>LogisticRegression()</pre></div></div></div></div></div>"
      ],
      "text/plain": [
       "LogisticRegression()"
      ]
     },
     "execution_count": 26,
     "metadata": {},
     "output_type": "execute_result"
    }
   ],
   "source": [
    "lrnew.fit(X_trainscaled,Y_train)"
   ]
  },
  {
   "cell_type": "code",
   "execution_count": 27,
   "id": "7079d57d-024c-47b4-8dae-bfe6ad79f9fa",
   "metadata": {},
   "outputs": [],
   "source": [
    "Y_predscaled=lrnew.predict(X_testscaled)"
   ]
  },
  {
   "cell_type": "code",
   "execution_count": 31,
   "id": "9bd9211f-06da-4648-b284-e4ab5df77b6f",
   "metadata": {},
   "outputs": [],
   "source": [
    "accscaledlr=accuracy_score(Y_test,Y_predscaled)"
   ]
  },
  {
   "cell_type": "code",
   "execution_count": 32,
   "id": "ef5b7c1b-e776-4dea-abe4-bf683c28a324",
   "metadata": {},
   "outputs": [
    {
     "data": {
      "text/plain": [
       "0.8547443398626303"
      ]
     },
     "execution_count": 32,
     "metadata": {},
     "output_type": "execute_result"
    }
   ],
   "source": [
    "accscaledlr"
   ]
  },
  {
   "cell_type": "code",
   "execution_count": 49,
   "id": "8b98b990-3d1b-4a56-bf3c-9b6df1bf1ed8",
   "metadata": {},
   "outputs": [
    {
     "data": {
      "image/png": "[encoded data removed]",
      "text/plain": [
       "<Figure size 640x480 with 1 Axes>"
      ]
     },
     "metadata": {},
     "output_type": "display_data"
    }
   ],
   "source": [
    "cm = confusion_matrix(Y_test,Y_predscaled)\n",
    "\n",
    "disp = ConfusionMatrixDisplay(confusion_matrix=cm)\n",
    "disp.plot(cmap=plt.cm.Blues, colorbar=False)\n",
    "\n",
    "plt.title('Confusion Matrix Logistic Regeression Scaled')\n",
    "plt.xlabel('Predicted Labels')\n",
    "plt.ylabel('True Labels')\n",
    "plt.show()"
   ]
  },
  {
   "cell_type": "markdown",
   "id": "9e8ab5fe-b7a9-4c5b-93e5-126d03511742",
   "metadata": {},
   "source": [
    "<h1>Models and Accuracy in Graphical Form</h1>"
   ]
  },
  {
   "cell_type": "code",
   "execution_count": 37,
   "id": "4c274c66-6e69-4193-bffd-e066440a2778",
   "metadata": {},
   "outputs": [],
   "source": [
    "Modelsandaccuracy={\"RandomForestScaled\":0.9262274230475706,\"RandomForest\":0.8888323581785805,\"LogiticRegressionScaled\":0.8547443398626303,\"LogisticRegression\":0.5866191808700076}"
   ]
  },
  {
   "cell_type": "code",
   "execution_count": 42,
   "id": "2ffea6fe-91aa-42a1-adfd-34147245ef98",
   "metadata": {},
   "outputs": [
    {
     "data": {
      "image/png": "[encoded data removed]",
      "text/plain": [
       "<Figure size 800x500 with 1 Axes>"
      ]
     },
     "metadata": {},
     "output_type": "display_data"
    }
   ],
   "source": [
    "names = list(Modelsandaccuracy.keys())\n",
    "ages = list(Modelsandaccuracy.values())\n",
    "\n",
    "# Plotting without sorting\n",
    "plt.figure(figsize=(8, 5))\n",
    "plt.bar(names, ages)\n",
    "plt.title('Model vs Accuracy')\n",
    "plt.xlabel('Model name')\n",
    "plt.ylabel('Accuracy Value')\n",
    "\n",
    "# Show labels on the bars\n",
    "\n",
    "\n",
    "plt.show()"
   ]
  }
 ],
 "metadata": {
  "kernelspec": {
   "display_name": "Python 3 (ipykernel)",
   "language": "python",
   "name": "python3"
  },
  "language_info": {
   "codemirror_mode": {
    "name": "ipython",
    "version": 3
   },
   "file_extension": ".py",
   "mimetype": "text/x-python",
   "name": "python",
   "nbconvert_exporter": "python",
   "pygments_lexer": "ipython3",
   "version": "3.11.7"
  }
 },
 "nbformat": 4,
 "nbformat_minor": 5
}
