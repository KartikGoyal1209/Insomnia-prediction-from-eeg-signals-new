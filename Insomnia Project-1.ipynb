{
 "cells": [
  {
   "cell_type": "code",
   "execution_count": 1,
   "id": "4c909655-89d2-4dda-8e47-97472c77180b",
   "metadata": {},
   "outputs": [],
   "source": [
    "import mne\n",
    "import pandas as pd\n",
    "import numpy as np\n",
    "import matplotlib.pyplot as plt\n",
    "import pywt\n",
    "from scipy.signal import stft\n",
    "from sklearn.model_selection import train_test_split\n",
    "from sklearn.ensemble import RandomForestClassifier\n",
    "from sklearn.metrics import accuracy_score, confusion_matrix, classification_report"
   ]
  },
  {
   "cell_type": "code",
   "execution_count": 16,
   "id": "ccc998b7-a632-4748-8ce5-7a2fe669f7f7",
   "metadata": {},
   "outputs": [],
   "source": [
    "def valfunc(path, label):\n",
    "    # Load the EEG data\n",
    "    file_path = path\n",
    "    raw = mne.io.read_raw_edf(file_path, preload=True)\n",
    "    \n",
    "    # Apply a bandpass filter to remove noise\n",
    "    raw.filter(0.5, 50., fir_design='firwin')\n",
    "    \n",
    "    # Define epoch length and events\n",
    "    epoch_length = 30  # in seconds\n",
    "    sampling_rate = raw.info['sfreq']  # get the sampling rate\n",
    "    epoch_samples = int(epoch_length * sampling_rate)\n",
    "    \n",
    "    # Create epochs\n",
    "    events = mne.make_fixed_length_events(raw, duration=epoch_length)\n",
    "    epochs = mne.Epochs(raw, events, tmin=0, tmax=epoch_length, baseline=None)\n",
    "    \n",
    "    # Extract data from epochs\n",
    "    epoch_data = epochs.get_data()\n",
    "    num_epochs = len(epoch_data)\n",
    "    print(f\"Number of epochs: {num_epochs}\")\n",
    "    \n",
    "    # Decompose the EEG signal\n",
    "    def decompose_signal(epoch, wavelet='db2', level=4):\n",
    "        coeffs = pywt.wavedec(epoch, wavelet, level=level)\n",
    "        return coeffs\n",
    "    \n",
    "    # Extract Time-Domain Statistical Features\n",
    "    def extract_time_domain_features(coeffs):\n",
    "        features = []\n",
    "        for coeff in coeffs:\n",
    "            features.extend([\n",
    "                np.max(coeff),\n",
    "                np.min(coeff),\n",
    "                np.mean(coeff),\n",
    "                np.std(coeff),\n",
    "                np.var(coeff),\n",
    "                np.sqrt(np.mean(coeff**2)),  # RMS\n",
    "                np.mean((coeff - np.mean(coeff))**3) / np.std(coeff)**3,  # Skewness\n",
    "                np.mean((coeff - np.mean(coeff))**4) / np.std(coeff)**4   # Kurtosis\n",
    "            ])\n",
    "        return features\n",
    "    \n",
    "    # Extract Frequency-Domain Features\n",
    "    def extract_frequency_domain_features(epoch, fs, nperseg=256):\n",
    "        f, t, Zxx = stft(epoch, fs, nperseg=nperseg)\n",
    "        delta_power = np.mean(np.abs(Zxx[(f >= 0.5) & (f < 4)]))\n",
    "        theta_power = np.mean(np.abs(Zxx[(f >= 4) & (f < 8)]))\n",
    "        alpha_power = np.mean(np.abs(Zxx[(f >= 8) & (f < 13)]))\n",
    "        beta_power = np.mean(np.abs(Zxx[(f >= 13) & (f < 30)]))\n",
    "        gamma_power = np.mean(np.abs(Zxx[(f >= 30) & (f < 50)]))\n",
    "        return [delta_power, theta_power, alpha_power, beta_power, gamma_power]\n",
    "    \n",
    "    # Combine Feature Extraction\n",
    "    def extract_features(epoch, fs):\n",
    "        coeffs = decompose_signal(epoch)\n",
    "        time_features = extract_time_domain_features(coeffs)\n",
    "        freq_features = extract_frequency_domain_features(epoch, fs)\n",
    "        return np.concatenate((time_features, freq_features))\n",
    "    \n",
    "    # Extract features for all epochs\n",
    "    all_features1 = np.array([extract_features(epoch[0], sampling_rate) for epoch in epoch_data])\n",
    "    \n",
    "    # Ensure the labels list matches the number of epochs\n",
    "    labels1 = [label] * (num_epochs)  # Example pattern, adjust based on actual labeling\n",
    "    if len(labels1) < num_epochs:\n",
    "        labels1.extend([1] * (num_epochs - len(labels1)))  # Padding with 0s for simplicity\n",
    "    return all_features1,labels1"
   ]
  },
  {
   "cell_type": "code",
   "execution_count": 27,
   "id": "210d0a27-69c5-40da-be0c-f5a62331c124",
   "metadata": {},
   "outputs": [],
   "source": [
    "#Using regular expression to settle path name\n",
    "import re\n",
    "def reg(path):\n",
    "    return re.sub(\"insomnia 7th sem/\",\"\",path)\n",
    "\n",
    "ins1label=1"
   ]
  },
  {
   "cell_type": "code",
   "execution_count": 28,
   "id": "da51bfcb-eaa1-4891-9c82-2beb06be0a38",
   "metadata": {},
   "outputs": [],
   "source": [
    "#Storing values in a tuple"
   ]
  },
  {
   "cell_type": "code",
   "execution_count": 29,
   "id": "5c1ecfc8-8638-4c1a-92af-72c4aaeb6020",
   "metadata": {},
   "outputs": [
    {
     "name": "stdout",
     "output_type": "stream",
     "text": [
      "Extracting EDF parameters from C:\\Users\\karti\\insomnia 7th sem\\ins2 (1).edf...\n",
      "EDF file detected\n",
      "Setting channel info structure...\n",
      "Creating raw.info structure...\n",
      "Reading 0 ... 25727999  =      0.000 ... 50249.998 secs...\n",
      "Filtering raw data in 1 contiguous segment\n",
      "Setting up band-pass filter from 0.5 - 50 Hz\n",
      "\n",
      "FIR filter parameters\n",
      "---------------------\n",
      "Designing a one-pass, zero-phase, non-causal bandpass filter:\n",
      "- Windowed time-domain design (firwin) method\n",
      "- Hamming window with 0.0194 passband ripple and 53 dB stopband attenuation\n",
      "- Lower passband edge: 0.50\n",
      "- Lower transition bandwidth: 0.50 Hz (-6 dB cutoff frequency: 0.25 Hz)\n",
      "- Upper passband edge: 50.00 Hz\n",
      "- Upper transition bandwidth: 12.50 Hz (-6 dB cutoff frequency: 56.25 Hz)\n",
      "- Filter length: 3381 samples (6.604 s)\n",
      "\n"
     ]
    },
    {
     "name": "stderr",
     "output_type": "stream",
     "text": [
      "[Parallel(n_jobs=1)]: Using backend SequentialBackend with 1 concurrent workers.\n",
      "[Parallel(n_jobs=1)]: Done   1 out of   1 | elapsed:    0.5s remaining:    0.0s\n",
      "[Parallel(n_jobs=1)]: Done   2 out of   2 | elapsed:    0.9s remaining:    0.0s\n",
      "[Parallel(n_jobs=1)]: Done   3 out of   3 | elapsed:    1.4s remaining:    0.0s\n",
      "[Parallel(n_jobs=1)]: Done   4 out of   4 | elapsed:    1.8s remaining:    0.0s\n",
      "[Parallel(n_jobs=1)]: Done  14 out of  14 | elapsed:    6.5s finished\n"
     ]
    },
    {
     "name": "stdout",
     "output_type": "stream",
     "text": [
      "Not setting metadata\n",
      "1675 matching events found\n",
      "No baseline correction applied\n",
      "0 projection items activated\n",
      "Using data from preloaded Raw for 1675 events and 15361 original time points ...\n",
      "1 bad epochs dropped\n",
      "Number of epochs: 1674\n"
     ]
    }
   ],
   "source": [
    "ins2vals=valfunc(reg(\"insomnia 7th sem/ins2 (1).edf\"),ins1label)"
   ]
  },
  {
   "cell_type": "markdown",
   "id": "0b560684-7feb-4464-911d-6d1a20b6bd40",
   "metadata": {},
   "source": [
    "<h2>Ins2 to features and Labels</h2>"
   ]
  },
  {
   "cell_type": "code",
   "execution_count": 30,
   "id": "052328e3-e1c1-4606-bc8f-0a41775b8ef1",
   "metadata": {},
   "outputs": [],
   "source": [
    "#Making dataframes to finally join to make a dataset\n",
    "ins2labelsdf=pd.DataFrame(ins2vals[1])\n",
    "ins2featuresdf=pd.DataFrame(ins2vals[0])"
   ]
  },
  {
   "cell_type": "markdown",
   "id": "70564883-fb60-4d1e-b24f-6b7c41c5a182",
   "metadata": {},
   "source": [
    "<h2>Ins3 to features and Labels</h2>"
   ]
  },
  {
   "cell_type": "code",
   "execution_count": 31,
   "id": "8d38a1fe-33c3-45e1-834c-21cf2a48a310",
   "metadata": {},
   "outputs": [
    {
     "name": "stdout",
     "output_type": "stream",
     "text": [
      "Extracting EDF parameters from C:\\Users\\karti\\insomnia 7th sem\\ins3.edf...\n",
      "EDF file detected\n",
      "Setting channel info structure...\n",
      "Creating raw.info structure...\n",
      "Reading 0 ... 7910655  =      0.000 ... 30900.996 secs...\n",
      "Filtering raw data in 1 contiguous segment\n",
      "Setting up band-pass filter from 0.5 - 50 Hz\n",
      "\n",
      "FIR filter parameters\n",
      "---------------------\n",
      "Designing a one-pass, zero-phase, non-causal bandpass filter:\n",
      "- Windowed time-domain design (firwin) method\n",
      "- Hamming window with 0.0194 passband ripple and 53 dB stopband attenuation\n",
      "- Lower passband edge: 0.50\n",
      "- Lower transition bandwidth: 0.50 Hz (-6 dB cutoff frequency: 0.25 Hz)\n",
      "- Upper passband edge: 50.00 Hz\n",
      "- Upper transition bandwidth: 12.50 Hz (-6 dB cutoff frequency: 56.25 Hz)\n",
      "- Filter length: 1691 samples (6.605 s)\n",
      "\n"
     ]
    },
    {
     "name": "stderr",
     "output_type": "stream",
     "text": [
      "[Parallel(n_jobs=1)]: Using backend SequentialBackend with 1 concurrent workers.\n",
      "[Parallel(n_jobs=1)]: Done   1 out of   1 | elapsed:    0.0s remaining:    0.0s\n",
      "[Parallel(n_jobs=1)]: Done   2 out of   2 | elapsed:    0.2s remaining:    0.0s\n",
      "[Parallel(n_jobs=1)]: Done   3 out of   3 | elapsed:    0.3s remaining:    0.0s\n",
      "[Parallel(n_jobs=1)]: Done   4 out of   4 | elapsed:    0.5s remaining:    0.0s\n"
     ]
    },
    {
     "name": "stdout",
     "output_type": "stream",
     "text": [
      "Not setting metadata\n",
      "1030 matching events found\n",
      "No baseline correction applied\n",
      "0 projection items activated\n",
      "Using data from preloaded Raw for 1030 events and 7681 original time points ...\n"
     ]
    },
    {
     "name": "stderr",
     "output_type": "stream",
     "text": [
      "[Parallel(n_jobs=1)]: Done  15 out of  15 | elapsed:    2.0s finished\n"
     ]
    },
    {
     "name": "stdout",
     "output_type": "stream",
     "text": [
      "0 bad epochs dropped\n",
      "Number of epochs: 1030\n"
     ]
    }
   ],
   "source": [
    "ins3label=1\n",
    "ins3vals=valfunc(reg(\"insomnia 7th sem/ins3.edf\"),ins3label)"
   ]
  },
  {
   "cell_type": "code",
   "execution_count": 32,
   "id": "671702c1-8ac8-4f3f-baa9-f03b2cd43aaf",
   "metadata": {},
   "outputs": [],
   "source": [
    "#Making dataframes to finally join to make a dataset\n",
    "ins3labelsdf=pd.DataFrame(ins3vals[1])\n",
    "ins3featuresdf=pd.DataFrame(ins3vals[0])"
   ]
  },
  {
   "cell_type": "markdown",
   "id": "ff367f5e-c90d-4cf6-a4b3-27e655954209",
   "metadata": {},
   "source": [
    "<h2>Ins4 to features and Labels</h2>"
   ]
  },
  {
   "cell_type": "code",
   "execution_count": 37,
   "id": "b84e4eea-580a-4ff8-9c95-75c3d1cb02d8",
   "metadata": {},
   "outputs": [
    {
     "name": "stdout",
     "output_type": "stream",
     "text": [
      "Extracting EDF parameters from C:\\Users\\karti\\insomnia 7th sem\\ins4.edf...\n",
      "EDF file detected\n",
      "Setting channel info structure...\n",
      "Creating raw.info structure...\n",
      "Reading 0 ... 19553791  =      0.000 ... 38190.998 secs...\n",
      "Filtering raw data in 1 contiguous segment\n",
      "Setting up band-pass filter from 0.5 - 50 Hz\n",
      "\n",
      "FIR filter parameters\n",
      "---------------------\n",
      "Designing a one-pass, zero-phase, non-causal bandpass filter:\n",
      "- Windowed time-domain design (firwin) method\n",
      "- Hamming window with 0.0194 passband ripple and 53 dB stopband attenuation\n",
      "- Lower passband edge: 0.50\n",
      "- Lower transition bandwidth: 0.50 Hz (-6 dB cutoff frequency: 0.25 Hz)\n",
      "- Upper passband edge: 50.00 Hz\n",
      "- Upper transition bandwidth: 12.50 Hz (-6 dB cutoff frequency: 56.25 Hz)\n",
      "- Filter length: 3381 samples (6.604 s)\n",
      "\n"
     ]
    },
    {
     "name": "stderr",
     "output_type": "stream",
     "text": [
      "[Parallel(n_jobs=1)]: Using backend SequentialBackend with 1 concurrent workers.\n",
      "[Parallel(n_jobs=1)]: Done   1 out of   1 | elapsed:    0.2s remaining:    0.0s\n",
      "[Parallel(n_jobs=1)]: Done   2 out of   2 | elapsed:    0.6s remaining:    0.0s\n",
      "[Parallel(n_jobs=1)]: Done   3 out of   3 | elapsed:    0.9s remaining:    0.0s\n",
      "[Parallel(n_jobs=1)]: Done   4 out of   4 | elapsed:    1.3s remaining:    0.0s\n"
     ]
    },
    {
     "name": "stdout",
     "output_type": "stream",
     "text": [
      "Not setting metadata\n",
      "1273 matching events found\n",
      "No baseline correction applied\n",
      "0 projection items activated\n",
      "Using data from preloaded Raw for 1273 events and 15361 original time points ...\n"
     ]
    },
    {
     "name": "stderr",
     "output_type": "stream",
     "text": [
      "[Parallel(n_jobs=1)]: Done   8 out of   8 | elapsed:    2.7s finished\n"
     ]
    },
    {
     "name": "stdout",
     "output_type": "stream",
     "text": [
      "0 bad epochs dropped\n",
      "Number of epochs: 1273\n"
     ]
    }
   ],
   "source": [
    "ins4label=1\n",
    "ins4vals=valfunc(reg(\"insomnia 7th sem/ins4.edf\"),ins4label)"
   ]
  },
  {
   "cell_type": "code",
   "execution_count": 38,
   "id": "c4cc0161-e0d4-46b2-a0e8-0e6285bbdab0",
   "metadata": {},
   "outputs": [],
   "source": [
    "#Making dataframes to finally join to make a dataset\n",
    "ins4labelsdf=pd.DataFrame(ins4vals[1])\n",
    "ins4featuresdf=pd.DataFrame(ins4vals[0])"
   ]
  },
  {
   "cell_type": "markdown",
   "id": "1123cd8b-965c-421e-a6a8-16d57947796a",
   "metadata": {},
   "source": [
    "<h2>Ins5 to features and Labels</h2>"
   ]
  },
  {
   "cell_type": "code",
   "execution_count": 39,
   "id": "b48b1cad-8179-47aa-b227-8c9c9a4a172f",
   "metadata": {},
   "outputs": [
    {
     "name": "stdout",
     "output_type": "stream",
     "text": [
      "Extracting EDF parameters from C:\\Users\\karti\\insomnia 7th sem\\ins5.edf...\n",
      "EDF file detected\n",
      "Setting channel info structure...\n",
      "Creating raw.info structure...\n",
      "Reading 0 ... 26419199  =      0.000 ... 51599.998 secs...\n",
      "Filtering raw data in 1 contiguous segment\n",
      "Setting up band-pass filter from 0.5 - 50 Hz\n",
      "\n",
      "FIR filter parameters\n",
      "---------------------\n",
      "Designing a one-pass, zero-phase, non-causal bandpass filter:\n",
      "- Windowed time-domain design (firwin) method\n",
      "- Hamming window with 0.0194 passband ripple and 53 dB stopband attenuation\n",
      "- Lower passband edge: 0.50\n",
      "- Lower transition bandwidth: 0.50 Hz (-6 dB cutoff frequency: 0.25 Hz)\n",
      "- Upper passband edge: 50.00 Hz\n",
      "- Upper transition bandwidth: 12.50 Hz (-6 dB cutoff frequency: 56.25 Hz)\n",
      "- Filter length: 3381 samples (6.604 s)\n",
      "\n"
     ]
    },
    {
     "name": "stderr",
     "output_type": "stream",
     "text": [
      "[Parallel(n_jobs=1)]: Using backend SequentialBackend with 1 concurrent workers.\n",
      "[Parallel(n_jobs=1)]: Done   1 out of   1 | elapsed:    0.4s remaining:    0.0s\n",
      "[Parallel(n_jobs=1)]: Done   2 out of   2 | elapsed:    0.8s remaining:    0.0s\n",
      "[Parallel(n_jobs=1)]: Done   3 out of   3 | elapsed:    1.3s remaining:    0.0s\n",
      "[Parallel(n_jobs=1)]: Done   4 out of   4 | elapsed:    1.8s remaining:    0.0s\n",
      "[Parallel(n_jobs=1)]: Done  12 out of  12 | elapsed:    5.6s finished\n"
     ]
    },
    {
     "name": "stdout",
     "output_type": "stream",
     "text": [
      "Not setting metadata\n",
      "1720 matching events found\n",
      "No baseline correction applied\n",
      "0 projection items activated\n",
      "Using data from preloaded Raw for 1720 events and 15361 original time points ...\n",
      "1 bad epochs dropped\n",
      "Number of epochs: 1719\n"
     ]
    }
   ],
   "source": [
    "ins5label=1\n",
    "ins5vals=valfunc(reg(\"insomnia 7th sem/ins5.edf\"),ins5label)\n",
    "ins5labelsdf=pd.DataFrame(ins5vals[1])\n",
    "ins5featuresdf=pd.DataFrame(ins5vals[0])"
   ]
  },
  {
   "cell_type": "markdown",
   "id": "7b813870-20a1-4d63-b6a9-eac4e572a0eb",
   "metadata": {},
   "source": [
    "<h2>Ins6 to features and Labels</h2>"
   ]
  },
  {
   "cell_type": "code",
   "execution_count": 40,
   "id": "503d8f64-74e3-47bc-b7b3-fb9786c8cc21",
   "metadata": {},
   "outputs": [
    {
     "name": "stdout",
     "output_type": "stream",
     "text": [
      "Extracting EDF parameters from C:\\Users\\karti\\insomnia 7th sem\\ins6.edf...\n",
      "EDF file detected\n",
      "Setting channel info structure...\n",
      "Creating raw.info structure...\n",
      "Reading 0 ... 24729599  =      0.000 ... 48299.998 secs...\n",
      "Filtering raw data in 1 contiguous segment\n",
      "Setting up band-pass filter from 0.5 - 50 Hz\n",
      "\n",
      "FIR filter parameters\n",
      "---------------------\n",
      "Designing a one-pass, zero-phase, non-causal bandpass filter:\n",
      "- Windowed time-domain design (firwin) method\n",
      "- Hamming window with 0.0194 passband ripple and 53 dB stopband attenuation\n",
      "- Lower passband edge: 0.50\n",
      "- Lower transition bandwidth: 0.50 Hz (-6 dB cutoff frequency: 0.25 Hz)\n",
      "- Upper passband edge: 50.00 Hz\n",
      "- Upper transition bandwidth: 12.50 Hz (-6 dB cutoff frequency: 56.25 Hz)\n",
      "- Filter length: 3381 samples (6.604 s)\n",
      "\n"
     ]
    },
    {
     "name": "stderr",
     "output_type": "stream",
     "text": [
      "[Parallel(n_jobs=1)]: Using backend SequentialBackend with 1 concurrent workers.\n",
      "[Parallel(n_jobs=1)]: Done   1 out of   1 | elapsed:    0.5s remaining:    0.0s\n",
      "[Parallel(n_jobs=1)]: Done   2 out of   2 | elapsed:    0.9s remaining:    0.0s\n",
      "[Parallel(n_jobs=1)]: Done   3 out of   3 | elapsed:    1.4s remaining:    0.0s\n",
      "[Parallel(n_jobs=1)]: Done   4 out of   4 | elapsed:    1.9s remaining:    0.0s\n",
      "[Parallel(n_jobs=1)]: Done  14 out of  14 | elapsed:    6.7s finished\n"
     ]
    },
    {
     "name": "stdout",
     "output_type": "stream",
     "text": [
      "Not setting metadata\n",
      "1610 matching events found\n",
      "No baseline correction applied\n",
      "0 projection items activated\n",
      "Using data from preloaded Raw for 1610 events and 15361 original time points ...\n",
      "1 bad epochs dropped\n",
      "Number of epochs: 1609\n"
     ]
    }
   ],
   "source": [
    "ins6label=1\n",
    "ins6vals=valfunc(reg(\"insomnia 7th sem/ins6.edf\"),ins6label)\n",
    "ins6labelsdf=pd.DataFrame(ins6vals[1])\n",
    "ins6featuresdf=pd.DataFrame(ins6vals[0])"
   ]
  },
  {
   "cell_type": "markdown",
   "id": "068d1851-b552-404e-8db7-73fc866059bb",
   "metadata": {},
   "source": [
    "<h2>Ins7 to features and Labels</h2>"
   ]
  },
  {
   "cell_type": "code",
   "execution_count": 41,
   "id": "ca814653-aa5b-450d-8d60-32d3acc79b35",
   "metadata": {},
   "outputs": [
    {
     "name": "stdout",
     "output_type": "stream",
     "text": [
      "Extracting EDF parameters from C:\\Users\\karti\\insomnia 7th sem\\ins7.edf...\n",
      "EDF file detected\n",
      "Setting channel info structure...\n",
      "Creating raw.info structure...\n",
      "Reading 0 ... 22778879  =      0.000 ... 44489.998 secs...\n",
      "Filtering raw data in 1 contiguous segment\n",
      "Setting up band-pass filter from 0.5 - 50 Hz\n",
      "\n",
      "FIR filter parameters\n",
      "---------------------\n",
      "Designing a one-pass, zero-phase, non-causal bandpass filter:\n",
      "- Windowed time-domain design (firwin) method\n",
      "- Hamming window with 0.0194 passband ripple and 53 dB stopband attenuation\n",
      "- Lower passband edge: 0.50\n",
      "- Lower transition bandwidth: 0.50 Hz (-6 dB cutoff frequency: 0.25 Hz)\n",
      "- Upper passband edge: 50.00 Hz\n",
      "- Upper transition bandwidth: 12.50 Hz (-6 dB cutoff frequency: 56.25 Hz)\n",
      "- Filter length: 3381 samples (6.604 s)\n",
      "\n"
     ]
    },
    {
     "name": "stderr",
     "output_type": "stream",
     "text": [
      "[Parallel(n_jobs=1)]: Using backend SequentialBackend with 1 concurrent workers.\n",
      "[Parallel(n_jobs=1)]: Done   1 out of   1 | elapsed:    0.4s remaining:    0.0s\n",
      "[Parallel(n_jobs=1)]: Done   2 out of   2 | elapsed:    1.0s remaining:    0.0s\n",
      "[Parallel(n_jobs=1)]: Done   3 out of   3 | elapsed:    1.5s remaining:    0.0s\n",
      "[Parallel(n_jobs=1)]: Done   4 out of   4 | elapsed:    2.0s remaining:    0.0s\n",
      "[Parallel(n_jobs=1)]: Done  12 out of  12 | elapsed:    5.2s finished\n"
     ]
    },
    {
     "name": "stdout",
     "output_type": "stream",
     "text": [
      "Not setting metadata\n",
      "1483 matching events found\n",
      "No baseline correction applied\n",
      "0 projection items activated\n",
      "Using data from preloaded Raw for 1483 events and 15361 original time points ...\n",
      "1 bad epochs dropped\n",
      "Number of epochs: 1482\n"
     ]
    }
   ],
   "source": [
    "ins7label=1\n",
    "ins7vals=valfunc(reg(\"insomnia 7th sem/ins7.edf\"),ins7label)\n",
    "ins7labelsdf=pd.DataFrame(ins7vals[1])\n",
    "ins7featuresdf=pd.DataFrame(ins7vals[0])"
   ]
  },
  {
   "cell_type": "markdown",
   "id": "a4665551-643d-42c9-a615-39cde730f3f8",
   "metadata": {},
   "source": [
    "<h2>Ins8 to features and Labels</h2>"
   ]
  },
  {
   "cell_type": "code",
   "execution_count": 42,
   "id": "55ec73cf-99fc-4207-bfe6-77bd28624f70",
   "metadata": {},
   "outputs": [
    {
     "name": "stdout",
     "output_type": "stream",
     "text": [
      "Extracting EDF parameters from C:\\Users\\karti\\insomnia 7th sem\\ins8.edf...\n",
      "EDF file detected\n",
      "Setting channel info structure...\n",
      "Creating raw.info structure...\n",
      "Reading 0 ... 15359999  =      0.000 ... 29999.998 secs...\n",
      "Filtering raw data in 1 contiguous segment\n",
      "Setting up band-pass filter from 0.5 - 50 Hz\n",
      "\n",
      "FIR filter parameters\n",
      "---------------------\n",
      "Designing a one-pass, zero-phase, non-causal bandpass filter:\n",
      "- Windowed time-domain design (firwin) method\n",
      "- Hamming window with 0.0194 passband ripple and 53 dB stopband attenuation\n",
      "- Lower passband edge: 0.50\n",
      "- Lower transition bandwidth: 0.50 Hz (-6 dB cutoff frequency: 0.25 Hz)\n",
      "- Upper passband edge: 50.00 Hz\n",
      "- Upper transition bandwidth: 12.50 Hz (-6 dB cutoff frequency: 56.25 Hz)\n",
      "- Filter length: 3381 samples (6.604 s)\n",
      "\n"
     ]
    },
    {
     "name": "stderr",
     "output_type": "stream",
     "text": [
      "[Parallel(n_jobs=1)]: Using backend SequentialBackend with 1 concurrent workers.\n",
      "[Parallel(n_jobs=1)]: Done   1 out of   1 | elapsed:    0.3s remaining:    0.0s\n",
      "[Parallel(n_jobs=1)]: Done   2 out of   2 | elapsed:    0.5s remaining:    0.0s\n",
      "[Parallel(n_jobs=1)]: Done   3 out of   3 | elapsed:    0.8s remaining:    0.0s\n",
      "[Parallel(n_jobs=1)]: Done   4 out of   4 | elapsed:    1.1s remaining:    0.0s\n",
      "[Parallel(n_jobs=1)]: Done  22 out of  22 | elapsed:    6.1s finished\n"
     ]
    },
    {
     "name": "stdout",
     "output_type": "stream",
     "text": [
      "Not setting metadata\n",
      "1000 matching events found\n",
      "No baseline correction applied\n",
      "0 projection items activated\n",
      "Using data from preloaded Raw for 1000 events and 15361 original time points ...\n",
      "1 bad epochs dropped\n",
      "Number of epochs: 999\n"
     ]
    }
   ],
   "source": [
    "ins8label=1\n",
    "ins8vals=valfunc(reg(\"insomnia 7th sem/ins8.edf\"),ins8label)\n",
    "ins8labelsdf=pd.DataFrame(ins8vals[1])\n",
    "ins8featuresdf=pd.DataFrame(ins8vals[0])"
   ]
  },
  {
   "cell_type": "markdown",
   "id": "09f786c9-38f9-41dc-90e4-d3f246618a5a",
   "metadata": {},
   "source": [
    "<h2>Ins9 to features and Labels</h2>"
   ]
  },
  {
   "cell_type": "code",
   "execution_count": 43,
   "id": "e81ad8f2-fcca-432e-ad68-3a1e5523dd87",
   "metadata": {},
   "outputs": [
    {
     "name": "stdout",
     "output_type": "stream",
     "text": [
      "Extracting EDF parameters from C:\\Users\\karti\\insomnia 7th sem\\ins9.edf...\n",
      "EDF file detected\n",
      "Setting channel info structure...\n",
      "Creating raw.info structure...\n",
      "Reading 0 ... 15780351  =      0.000 ... 30820.998 secs...\n"
     ]
    },
    {
     "name": "stderr",
     "output_type": "stream",
     "text": [
      "C:\\Users\\karti\\AppData\\Local\\Temp\\ipykernel_16240\\3717673409.py:4: RuntimeWarning: Number of records from the header does not match the file size (perhaps the recording was not stopped before exiting). Inferring from the file size.\n",
      "  raw = mne.io.read_raw_edf(file_path, preload=True)\n"
     ]
    },
    {
     "name": "stdout",
     "output_type": "stream",
     "text": [
      "Filtering raw data in 1 contiguous segment\n",
      "Setting up band-pass filter from 0.5 - 50 Hz\n",
      "\n",
      "FIR filter parameters\n",
      "---------------------\n",
      "Designing a one-pass, zero-phase, non-causal bandpass filter:\n",
      "- Windowed time-domain design (firwin) method\n",
      "- Hamming window with 0.0194 passband ripple and 53 dB stopband attenuation\n",
      "- Lower passband edge: 0.50\n",
      "- Lower transition bandwidth: 0.50 Hz (-6 dB cutoff frequency: 0.25 Hz)\n",
      "- Upper passband edge: 50.00 Hz\n",
      "- Upper transition bandwidth: 12.50 Hz (-6 dB cutoff frequency: 56.25 Hz)\n",
      "- Filter length: 3381 samples (6.604 s)\n",
      "\n"
     ]
    },
    {
     "name": "stderr",
     "output_type": "stream",
     "text": [
      "[Parallel(n_jobs=1)]: Using backend SequentialBackend with 1 concurrent workers.\n",
      "[Parallel(n_jobs=1)]: Done   1 out of   1 | elapsed:    0.2s remaining:    0.0s\n",
      "[Parallel(n_jobs=1)]: Done   2 out of   2 | elapsed:    0.5s remaining:    0.0s\n",
      "[Parallel(n_jobs=1)]: Done   3 out of   3 | elapsed:    0.7s remaining:    0.0s\n",
      "[Parallel(n_jobs=1)]: Done   4 out of   4 | elapsed:    1.0s remaining:    0.0s\n",
      "[Parallel(n_jobs=1)]: Done  23 out of  23 | elapsed:    6.3s finished\n"
     ]
    },
    {
     "name": "stdout",
     "output_type": "stream",
     "text": [
      "Not setting metadata\n",
      "1027 matching events found\n",
      "No baseline correction applied\n",
      "0 projection items activated\n",
      "Using data from preloaded Raw for 1027 events and 15361 original time points ...\n",
      "0 bad epochs dropped\n",
      "Number of epochs: 1027\n"
     ]
    }
   ],
   "source": [
    "ins9label=1\n",
    "ins9vals=valfunc(reg(\"insomnia 7th sem/ins9.edf\"),ins9label)\n",
    "ins9labelsdf=pd.DataFrame(ins9vals[1])\n",
    "ins9featuresdf=pd.DataFrame(ins9vals[0])"
   ]
  },
  {
   "cell_type": "markdown",
   "id": "e5ce669d-cce1-4da8-9f13-87380f97d945",
   "metadata": {},
   "source": [
    "<h2>n1 to features and Labels</h2>"
   ]
  },
  {
   "cell_type": "code",
   "execution_count": 44,
   "id": "aa2c8f41-131e-4b3e-8e75-3532b06f181e",
   "metadata": {},
   "outputs": [
    {
     "name": "stdout",
     "output_type": "stream",
     "text": [
      "Extracting EDF parameters from C:\\Users\\karti\\insomnia 7th sem\\n1.edf...\n",
      "EDF file detected\n",
      "Setting channel info structure...\n",
      "Creating raw.info structure...\n",
      "Reading 0 ... 17725439  =      0.000 ... 34619.998 secs...\n",
      "Filtering raw data in 1 contiguous segment\n",
      "Setting up band-pass filter from 0.5 - 50 Hz\n",
      "\n",
      "FIR filter parameters\n",
      "---------------------\n",
      "Designing a one-pass, zero-phase, non-causal bandpass filter:\n",
      "- Windowed time-domain design (firwin) method\n",
      "- Hamming window with 0.0194 passband ripple and 53 dB stopband attenuation\n",
      "- Lower passband edge: 0.50\n",
      "- Lower transition bandwidth: 0.50 Hz (-6 dB cutoff frequency: 0.25 Hz)\n",
      "- Upper passband edge: 50.00 Hz\n",
      "- Upper transition bandwidth: 12.50 Hz (-6 dB cutoff frequency: 56.25 Hz)\n",
      "- Filter length: 3381 samples (6.604 s)\n",
      "\n"
     ]
    },
    {
     "name": "stderr",
     "output_type": "stream",
     "text": [
      "[Parallel(n_jobs=1)]: Using backend SequentialBackend with 1 concurrent workers.\n",
      "[Parallel(n_jobs=1)]: Done   1 out of   1 | elapsed:    0.3s remaining:    0.0s\n",
      "[Parallel(n_jobs=1)]: Done   2 out of   2 | elapsed:    0.6s remaining:    0.0s\n",
      "[Parallel(n_jobs=1)]: Done   3 out of   3 | elapsed:    0.9s remaining:    0.0s\n",
      "[Parallel(n_jobs=1)]: Done   4 out of   4 | elapsed:    1.2s remaining:    0.0s\n",
      "[Parallel(n_jobs=1)]: Done  21 out of  21 | elapsed:    6.5s finished\n"
     ]
    },
    {
     "name": "stdout",
     "output_type": "stream",
     "text": [
      "Not setting metadata\n",
      "1154 matching events found\n",
      "No baseline correction applied\n",
      "0 projection items activated\n",
      "Using data from preloaded Raw for 1154 events and 15361 original time points ...\n",
      "1 bad epochs dropped\n",
      "Number of epochs: 1153\n"
     ]
    }
   ],
   "source": [
    "n1label=0\n",
    "n1vals=valfunc(reg(\"insomnia 7th sem/n1.edf\"),n1label)\n",
    "n1labelsdf=pd.DataFrame(n1vals[1])\n",
    "n1featuresdf=pd.DataFrame(n1vals[0])"
   ]
  },
  {
   "cell_type": "markdown",
   "id": "72832309-5c3a-43c5-8213-5428f994f2f3",
   "metadata": {},
   "source": [
    "<h2>n2 to features and Labels</h2>"
   ]
  },
  {
   "cell_type": "code",
   "execution_count": 45,
   "id": "038e9a5f-cab7-4779-8298-80b3343197bf",
   "metadata": {},
   "outputs": [
    {
     "name": "stdout",
     "output_type": "stream",
     "text": [
      "Extracting EDF parameters from C:\\Users\\karti\\insomnia 7th sem\\n2.edf...\n",
      "EDF file detected\n",
      "Setting channel info structure...\n",
      "Creating raw.info structure...\n",
      "Reading 0 ... 22579199  =      0.000 ... 44099.998 secs...\n",
      "Filtering raw data in 1 contiguous segment\n",
      "Setting up band-pass filter from 0.5 - 50 Hz\n",
      "\n",
      "FIR filter parameters\n",
      "---------------------\n",
      "Designing a one-pass, zero-phase, non-causal bandpass filter:\n",
      "- Windowed time-domain design (firwin) method\n",
      "- Hamming window with 0.0194 passband ripple and 53 dB stopband attenuation\n",
      "- Lower passband edge: 0.50\n",
      "- Lower transition bandwidth: 0.50 Hz (-6 dB cutoff frequency: 0.25 Hz)\n",
      "- Upper passband edge: 50.00 Hz\n",
      "- Upper transition bandwidth: 12.50 Hz (-6 dB cutoff frequency: 56.25 Hz)\n",
      "- Filter length: 3381 samples (6.604 s)\n",
      "\n"
     ]
    },
    {
     "name": "stderr",
     "output_type": "stream",
     "text": [
      "[Parallel(n_jobs=1)]: Using backend SequentialBackend with 1 concurrent workers.\n",
      "[Parallel(n_jobs=1)]: Done   1 out of   1 | elapsed:    0.5s remaining:    0.0s\n",
      "[Parallel(n_jobs=1)]: Done   2 out of   2 | elapsed:    0.9s remaining:    0.0s\n",
      "[Parallel(n_jobs=1)]: Done   3 out of   3 | elapsed:    1.3s remaining:    0.0s\n",
      "[Parallel(n_jobs=1)]: Done   4 out of   4 | elapsed:    1.7s remaining:    0.0s\n",
      "[Parallel(n_jobs=1)]: Done  15 out of  15 | elapsed:    6.1s finished\n"
     ]
    },
    {
     "name": "stdout",
     "output_type": "stream",
     "text": [
      "Not setting metadata\n",
      "1470 matching events found\n",
      "No baseline correction applied\n",
      "0 projection items activated\n",
      "Using data from preloaded Raw for 1470 events and 15361 original time points ...\n",
      "1 bad epochs dropped\n",
      "Number of epochs: 1469\n"
     ]
    }
   ],
   "source": [
    "n2label=0\n",
    "n2vals=valfunc(reg(\"insomnia 7th sem/n2.edf\"),n2label)\n",
    "n2labelsdf=pd.DataFrame(n2vals[1])\n",
    "n2featuresdf=pd.DataFrame(n2vals[0])"
   ]
  },
  {
   "cell_type": "markdown",
   "id": "864577a6-243b-4113-93b8-01002f97fdc5",
   "metadata": {},
   "source": [
    "<h2>n3 to features and Labels</h2>"
   ]
  },
  {
   "cell_type": "code",
   "execution_count": 46,
   "id": "ff46be4f-77c7-4c70-9150-2ae34ed21083",
   "metadata": {},
   "outputs": [
    {
     "name": "stdout",
     "output_type": "stream",
     "text": [
      "Extracting EDF parameters from C:\\Users\\karti\\insomnia 7th sem\\n3.edf...\n",
      "EDF file detected\n",
      "Setting channel info structure...\n",
      "Creating raw.info structure...\n",
      "Reading 0 ... 15287295  =      0.000 ... 29857.998 secs...\n"
     ]
    },
    {
     "name": "stderr",
     "output_type": "stream",
     "text": [
      "C:\\Users\\karti\\AppData\\Local\\Temp\\ipykernel_16240\\3717673409.py:4: RuntimeWarning: Number of records from the header does not match the file size (perhaps the recording was not stopped before exiting). Inferring from the file size.\n",
      "  raw = mne.io.read_raw_edf(file_path, preload=True)\n"
     ]
    },
    {
     "name": "stdout",
     "output_type": "stream",
     "text": [
      "Filtering raw data in 1 contiguous segment\n",
      "Setting up band-pass filter from 0.5 - 50 Hz\n",
      "\n",
      "FIR filter parameters\n",
      "---------------------\n",
      "Designing a one-pass, zero-phase, non-causal bandpass filter:\n",
      "- Windowed time-domain design (firwin) method\n",
      "- Hamming window with 0.0194 passband ripple and 53 dB stopband attenuation\n",
      "- Lower passband edge: 0.50\n",
      "- Lower transition bandwidth: 0.50 Hz (-6 dB cutoff frequency: 0.25 Hz)\n",
      "- Upper passband edge: 50.00 Hz\n",
      "- Upper transition bandwidth: 12.50 Hz (-6 dB cutoff frequency: 56.25 Hz)\n",
      "- Filter length: 3381 samples (6.604 s)\n",
      "\n"
     ]
    },
    {
     "name": "stderr",
     "output_type": "stream",
     "text": [
      "[Parallel(n_jobs=1)]: Using backend SequentialBackend with 1 concurrent workers.\n",
      "[Parallel(n_jobs=1)]: Done   1 out of   1 | elapsed:    0.2s remaining:    0.0s\n",
      "[Parallel(n_jobs=1)]: Done   2 out of   2 | elapsed:    0.5s remaining:    0.0s\n",
      "[Parallel(n_jobs=1)]: Done   3 out of   3 | elapsed:    0.7s remaining:    0.0s\n",
      "[Parallel(n_jobs=1)]: Done   4 out of   4 | elapsed:    1.0s remaining:    0.0s\n",
      "[Parallel(n_jobs=1)]: Done  23 out of  23 | elapsed:    6.2s finished\n"
     ]
    },
    {
     "name": "stdout",
     "output_type": "stream",
     "text": [
      "Not setting metadata\n",
      "995 matching events found\n",
      "No baseline correction applied\n",
      "0 projection items activated\n",
      "Using data from preloaded Raw for 995 events and 15361 original time points ...\n",
      "0 bad epochs dropped\n",
      "Number of epochs: 995\n"
     ]
    }
   ],
   "source": [
    "n3label=0\n",
    "n3vals=valfunc(reg(\"insomnia 7th sem/n3.edf\"),n3label)\n",
    "n3labelsdf=pd.DataFrame(n3vals[1])\n",
    "n3featuresdf=pd.DataFrame(n3vals[0])"
   ]
  },
  {
   "cell_type": "markdown",
   "id": "31daccb1-662a-4219-aa97-daa8dfc24ba2",
   "metadata": {},
   "source": [
    "<h2>n4 to features and Labels</h2>"
   ]
  },
  {
   "cell_type": "code",
   "execution_count": 47,
   "id": "e1d0d04a-e238-4d3e-8bb6-08590324f6b4",
   "metadata": {},
   "outputs": [
    {
     "name": "stdout",
     "output_type": "stream",
     "text": [
      "Extracting EDF parameters from C:\\Users\\karti\\insomnia 7th sem\\n4.edf...\n",
      "EDF file detected\n",
      "Setting channel info structure...\n",
      "Creating raw.info structure...\n",
      "Reading 0 ... 7147999  =      0.000 ... 35739.995 secs...\n",
      "Filtering raw data in 1 contiguous segment\n",
      "Setting up band-pass filter from 0.5 - 50 Hz\n",
      "\n",
      "FIR filter parameters\n",
      "---------------------\n",
      "Designing a one-pass, zero-phase, non-causal bandpass filter:\n",
      "- Windowed time-domain design (firwin) method\n",
      "- Hamming window with 0.0194 passband ripple and 53 dB stopband attenuation\n",
      "- Lower passband edge: 0.50\n",
      "- Lower transition bandwidth: 0.50 Hz (-6 dB cutoff frequency: 0.25 Hz)\n",
      "- Upper passband edge: 50.00 Hz\n",
      "- Upper transition bandwidth: 12.50 Hz (-6 dB cutoff frequency: 56.25 Hz)\n",
      "- Filter length: 1321 samples (6.605 s)\n",
      "\n"
     ]
    },
    {
     "name": "stderr",
     "output_type": "stream",
     "text": [
      "[Parallel(n_jobs=1)]: Using backend SequentialBackend with 1 concurrent workers.\n",
      "[Parallel(n_jobs=1)]: Done   1 out of   1 | elapsed:    0.0s remaining:    0.0s\n",
      "[Parallel(n_jobs=1)]: Done   2 out of   2 | elapsed:    0.2s remaining:    0.0s\n",
      "[Parallel(n_jobs=1)]: Done   3 out of   3 | elapsed:    0.3s remaining:    0.0s\n",
      "[Parallel(n_jobs=1)]: Done   4 out of   4 | elapsed:    0.4s remaining:    0.0s\n"
     ]
    },
    {
     "name": "stdout",
     "output_type": "stream",
     "text": [
      "Not setting metadata\n",
      "1191 matching events found\n",
      "No baseline correction applied\n",
      "0 projection items activated\n",
      "Using data from preloaded Raw for 1191 events and 6001 original time points ...\n"
     ]
    },
    {
     "name": "stderr",
     "output_type": "stream",
     "text": [
      "[Parallel(n_jobs=1)]: Done  17 out of  17 | elapsed:    2.2s finished\n"
     ]
    },
    {
     "name": "stdout",
     "output_type": "stream",
     "text": [
      "0 bad epochs dropped\n",
      "Number of epochs: 1191\n"
     ]
    }
   ],
   "source": [
    "n4label=0\n",
    "n4vals=valfunc(reg(\"insomnia 7th sem/n4.edf\"),n4label)\n",
    "n4labelsdf=pd.DataFrame(n4vals[1])\n",
    "n4featuresdf=pd.DataFrame(n4vals[0])"
   ]
  },
  {
   "cell_type": "markdown",
   "id": "0ec7dbe2-6a5b-49d1-a68c-1ca8266eabf1",
   "metadata": {},
   "source": [
    "<h2>n5 to features and Labels</h2>"
   ]
  },
  {
   "cell_type": "code",
   "execution_count": 48,
   "id": "b309dee3-9619-4019-990e-47c43b901d5e",
   "metadata": {},
   "outputs": [
    {
     "name": "stdout",
     "output_type": "stream",
     "text": [
      "Extracting EDF parameters from C:\\Users\\karti\\insomnia 7th sem\\n5.edf...\n",
      "EDF file detected\n",
      "Setting channel info structure...\n",
      "Creating raw.info structure...\n",
      "Reading 0 ... 15222783  =      0.000 ... 29731.998 secs...\n"
     ]
    },
    {
     "name": "stderr",
     "output_type": "stream",
     "text": [
      "C:\\Users\\karti\\AppData\\Local\\Temp\\ipykernel_16240\\3717673409.py:4: RuntimeWarning: Number of records from the header does not match the file size (perhaps the recording was not stopped before exiting). Inferring from the file size.\n",
      "  raw = mne.io.read_raw_edf(file_path, preload=True)\n"
     ]
    },
    {
     "name": "stdout",
     "output_type": "stream",
     "text": [
      "Filtering raw data in 1 contiguous segment\n",
      "Setting up band-pass filter from 0.5 - 50 Hz\n",
      "\n",
      "FIR filter parameters\n",
      "---------------------\n",
      "Designing a one-pass, zero-phase, non-causal bandpass filter:\n",
      "- Windowed time-domain design (firwin) method\n",
      "- Hamming window with 0.0194 passband ripple and 53 dB stopband attenuation\n",
      "- Lower passband edge: 0.50\n",
      "- Lower transition bandwidth: 0.50 Hz (-6 dB cutoff frequency: 0.25 Hz)\n",
      "- Upper passband edge: 50.00 Hz\n",
      "- Upper transition bandwidth: 12.50 Hz (-6 dB cutoff frequency: 56.25 Hz)\n",
      "- Filter length: 3381 samples (6.604 s)\n",
      "\n"
     ]
    },
    {
     "name": "stderr",
     "output_type": "stream",
     "text": [
      "[Parallel(n_jobs=1)]: Using backend SequentialBackend with 1 concurrent workers.\n",
      "[Parallel(n_jobs=1)]: Done   1 out of   1 | elapsed:    0.2s remaining:    0.0s\n",
      "[Parallel(n_jobs=1)]: Done   2 out of   2 | elapsed:    0.5s remaining:    0.0s\n",
      "[Parallel(n_jobs=1)]: Done   3 out of   3 | elapsed:    0.8s remaining:    0.0s\n",
      "[Parallel(n_jobs=1)]: Done   4 out of   4 | elapsed:    1.1s remaining:    0.0s\n",
      "[Parallel(n_jobs=1)]: Done  23 out of  23 | elapsed:    6.2s finished\n"
     ]
    },
    {
     "name": "stdout",
     "output_type": "stream",
     "text": [
      "Not setting metadata\n",
      "991 matching events found\n",
      "No baseline correction applied\n",
      "0 projection items activated\n",
      "Using data from preloaded Raw for 991 events and 15361 original time points ...\n",
      "0 bad epochs dropped\n",
      "Number of epochs: 991\n"
     ]
    }
   ],
   "source": [
    "n5label=0\n",
    "n5vals=valfunc(reg(\"insomnia 7th sem/n5.edf\"),n5label)\n",
    "n5labelsdf=pd.DataFrame(n5vals[1])\n",
    "n5featuresdf=pd.DataFrame(n5vals[0])"
   ]
  },
  {
   "cell_type": "markdown",
   "id": "6aa629b6-48f3-453c-b7d0-74049fa3cb88",
   "metadata": {},
   "source": [
    "<h2>n6 to features and Labels</h2>"
   ]
  },
  {
   "cell_type": "code",
   "execution_count": 50,
   "id": "42cf5a9e-b2eb-40a1-91e0-a255c345fa13",
   "metadata": {},
   "outputs": [
    {
     "name": "stdout",
     "output_type": "stream",
     "text": [
      "Extracting EDF parameters from C:\\Users\\karti\\insomnia 7th sem\\n6.edf...\n",
      "EDF file detected\n",
      "Setting channel info structure...\n",
      "Creating raw.info structure...\n",
      "Reading 0 ... 4047999  =      0.000 ... 31624.992 secs...\n",
      "Filtering raw data in 1 contiguous segment\n",
      "Setting up band-pass filter from 0.5 - 50 Hz\n",
      "\n",
      "FIR filter parameters\n",
      "---------------------\n",
      "Designing a one-pass, zero-phase, non-causal bandpass filter:\n",
      "- Windowed time-domain design (firwin) method\n",
      "- Hamming window with 0.0194 passband ripple and 53 dB stopband attenuation\n",
      "- Lower passband edge: 0.50\n",
      "- Lower transition bandwidth: 0.50 Hz (-6 dB cutoff frequency: 0.25 Hz)\n",
      "- Upper passband edge: 50.00 Hz\n",
      "- Upper transition bandwidth: 12.50 Hz (-6 dB cutoff frequency: 56.25 Hz)\n",
      "- Filter length: 845 samples (6.602 s)\n",
      "\n"
     ]
    },
    {
     "name": "stderr",
     "output_type": "stream",
     "text": [
      "[Parallel(n_jobs=1)]: Using backend SequentialBackend with 1 concurrent workers.\n",
      "[Parallel(n_jobs=1)]: Done   1 out of   1 | elapsed:    0.0s remaining:    0.0s\n",
      "[Parallel(n_jobs=1)]: Done   2 out of   2 | elapsed:    0.1s remaining:    0.0s\n",
      "[Parallel(n_jobs=1)]: Done   3 out of   3 | elapsed:    0.1s remaining:    0.0s\n",
      "[Parallel(n_jobs=1)]: Done   4 out of   4 | elapsed:    0.2s remaining:    0.0s\n"
     ]
    },
    {
     "name": "stdout",
     "output_type": "stream",
     "text": [
      "Not setting metadata\n",
      "1054 matching events found\n",
      "No baseline correction applied\n",
      "0 projection items activated\n",
      "Using data from preloaded Raw for 1054 events and 3841 original time points ...\n",
      "0 bad epochs dropped\n"
     ]
    },
    {
     "name": "stderr",
     "output_type": "stream",
     "text": [
      "[Parallel(n_jobs=1)]: Done   8 out of   8 | elapsed:    0.5s finished\n"
     ]
    },
    {
     "name": "stdout",
     "output_type": "stream",
     "text": [
      "Number of epochs: 1054\n"
     ]
    }
   ],
   "source": [
    "n6label=0\n",
    "n6vals=valfunc(reg(\"insomnia 7th sem/n6.edf\"),n6label)\n",
    "n6labelsdf=pd.DataFrame(n6vals[1])\n",
    "n6featuresdf=pd.DataFrame(n6vals[0])"
   ]
  },
  {
   "cell_type": "markdown",
   "id": "1beaf46a-e8f0-4ae7-b5c2-0f7796efacfe",
   "metadata": {},
   "source": [
    "<h2>n7 to features and Labels</h2>"
   ]
  },
  {
   "cell_type": "code",
   "execution_count": 51,
   "id": "8db8e601-e189-434b-ba5e-3bb6cdaf4e43",
   "metadata": {},
   "outputs": [
    {
     "name": "stdout",
     "output_type": "stream",
     "text": [
      "Extracting EDF parameters from C:\\Users\\karti\\insomnia 7th sem\\n7.edf...\n",
      "EDF file detected\n",
      "Setting channel info structure...\n",
      "Creating raw.info structure...\n",
      "Reading 0 ... 3781119  =      0.000 ... 29539.992 secs...\n",
      "Filtering raw data in 1 contiguous segment\n",
      "Setting up band-pass filter from 0.5 - 50 Hz\n",
      "\n",
      "FIR filter parameters\n",
      "---------------------\n",
      "Designing a one-pass, zero-phase, non-causal bandpass filter:\n",
      "- Windowed time-domain design (firwin) method\n",
      "- Hamming window with 0.0194 passband ripple and 53 dB stopband attenuation\n",
      "- Lower passband edge: 0.50\n",
      "- Lower transition bandwidth: 0.50 Hz (-6 dB cutoff frequency: 0.25 Hz)\n",
      "- Upper passband edge: 50.00 Hz\n",
      "- Upper transition bandwidth: 12.50 Hz (-6 dB cutoff frequency: 56.25 Hz)\n",
      "- Filter length: 845 samples (6.602 s)\n",
      "\n"
     ]
    },
    {
     "name": "stderr",
     "output_type": "stream",
     "text": [
      "[Parallel(n_jobs=1)]: Using backend SequentialBackend with 1 concurrent workers.\n",
      "[Parallel(n_jobs=1)]: Done   1 out of   1 | elapsed:    0.0s remaining:    0.0s\n",
      "[Parallel(n_jobs=1)]: Done   2 out of   2 | elapsed:    0.1s remaining:    0.0s\n",
      "[Parallel(n_jobs=1)]: Done   3 out of   3 | elapsed:    0.1s remaining:    0.0s\n",
      "[Parallel(n_jobs=1)]: Done   4 out of   4 | elapsed:    0.2s remaining:    0.0s\n"
     ]
    },
    {
     "name": "stdout",
     "output_type": "stream",
     "text": [
      "Not setting metadata\n",
      "984 matching events found\n",
      "No baseline correction applied\n",
      "0 projection items activated\n",
      "Using data from preloaded Raw for 984 events and 3841 original time points ...\n",
      "0 bad epochs dropped\n"
     ]
    },
    {
     "name": "stderr",
     "output_type": "stream",
     "text": [
      "[Parallel(n_jobs=1)]: Done   8 out of   8 | elapsed:    0.5s finished\n"
     ]
    },
    {
     "name": "stdout",
     "output_type": "stream",
     "text": [
      "Number of epochs: 984\n"
     ]
    }
   ],
   "source": [
    "n7label=0\n",
    "n7vals=valfunc(reg(\"insomnia 7th sem/n7.edf\"),n7label)\n",
    "n7labelsdf=pd.DataFrame(n7vals[1])\n",
    "n7featuresdf=pd.DataFrame(n7vals[0])"
   ]
  },
  {
   "cell_type": "markdown",
   "id": "f883716a-a91b-4c29-aa29-797329916dc0",
   "metadata": {},
   "source": [
    "<h2>n8 to features and Labels</h2>"
   ]
  },
  {
   "cell_type": "code",
   "execution_count": 52,
   "id": "4726771d-d941-4c02-b69a-03d25b9e7199",
   "metadata": {},
   "outputs": [
    {
     "name": "stdout",
     "output_type": "stream",
     "text": [
      "Extracting EDF parameters from C:\\Users\\karti\\insomnia 7th sem\\n8.edf...\n",
      "EDF file detected\n",
      "Setting channel info structure...\n",
      "Creating raw.info structure...\n",
      "Reading 0 ... 6007999  =      0.000 ... 30039.995 secs...\n",
      "Filtering raw data in 1 contiguous segment\n",
      "Setting up band-pass filter from 0.5 - 50 Hz\n",
      "\n",
      "FIR filter parameters\n",
      "---------------------\n",
      "Designing a one-pass, zero-phase, non-causal bandpass filter:\n",
      "- Windowed time-domain design (firwin) method\n",
      "- Hamming window with 0.0194 passband ripple and 53 dB stopband attenuation\n",
      "- Lower passband edge: 0.50\n",
      "- Lower transition bandwidth: 0.50 Hz (-6 dB cutoff frequency: 0.25 Hz)\n",
      "- Upper passband edge: 50.00 Hz\n",
      "- Upper transition bandwidth: 12.50 Hz (-6 dB cutoff frequency: 56.25 Hz)\n",
      "- Filter length: 1321 samples (6.605 s)\n",
      "\n"
     ]
    },
    {
     "name": "stderr",
     "output_type": "stream",
     "text": [
      "[Parallel(n_jobs=1)]: Using backend SequentialBackend with 1 concurrent workers.\n",
      "[Parallel(n_jobs=1)]: Done   1 out of   1 | elapsed:    0.1s remaining:    0.0s\n",
      "[Parallel(n_jobs=1)]: Done   2 out of   2 | elapsed:    0.2s remaining:    0.0s\n",
      "[Parallel(n_jobs=1)]: Done   3 out of   3 | elapsed:    0.3s remaining:    0.0s\n",
      "[Parallel(n_jobs=1)]: Done   4 out of   4 | elapsed:    0.4s remaining:    0.0s\n"
     ]
    },
    {
     "name": "stdout",
     "output_type": "stream",
     "text": [
      "Not setting metadata\n",
      "1001 matching events found\n",
      "No baseline correction applied\n",
      "0 projection items activated\n",
      "Using data from preloaded Raw for 1001 events and 6001 original time points ...\n"
     ]
    },
    {
     "name": "stderr",
     "output_type": "stream",
     "text": [
      "[Parallel(n_jobs=1)]: Done  14 out of  14 | elapsed:    1.4s finished\n"
     ]
    },
    {
     "name": "stdout",
     "output_type": "stream",
     "text": [
      "0 bad epochs dropped\n",
      "Number of epochs: 1001\n"
     ]
    }
   ],
   "source": [
    "n8label=0\n",
    "n8vals=valfunc(reg(\"insomnia 7th sem/n8.edf\"),n8label)\n",
    "n8labelsdf=pd.DataFrame(n8vals[1])\n",
    "n8featuresdf=pd.DataFrame(n8vals[0])"
   ]
  },
  {
   "cell_type": "markdown",
   "id": "94fd1f3b-3577-44a1-9265-0d1273792a69",
   "metadata": {},
   "source": [
    "<h1>Making Dataset</h1>"
   ]
  },
  {
   "cell_type": "code",
   "execution_count": 56,
   "id": "cf60467f-b34c-4835-88c1-8afac4dc9b5a",
   "metadata": {},
   "outputs": [],
   "source": [
    "all_features=pd.concat([ins2featuresdf,ins3featuresdf,ins4featuresdf,ins5featuresdf,ins6featuresdf,ins7featuresdf,ins8featuresdf,ins9featuresdf,n1featuresdf,n2featuresdf,n3featuresdf,n4featuresdf,n5featuresdf,n6featuresdf,n7featuresdf,n8featuresdf],ignore_index=True)"
   ]
  },
  {
   "cell_type": "code",
   "execution_count": 57,
   "id": "f88c1532-b4e3-4eb1-80c2-8318933ccce7",
   "metadata": {},
   "outputs": [
    {
     "data": {
      "text/plain": [
       "(19651, 45)"
      ]
     },
     "execution_count": 57,
     "metadata": {},
     "output_type": "execute_result"
    }
   ],
   "source": [
    "all_features.shape"
   ]
  },
  {
   "cell_type": "code",
   "execution_count": 62,
   "id": "f274be65-acb5-4821-ba7d-492263003c5f",
   "metadata": {},
   "outputs": [],
   "source": [
    "labelsall=pd.concat([ins2labelsdf,ins3labelsdf,ins4labelsdf,ins5labelsdf,ins6labelsdf,ins7labelsdf,ins8labelsdf,ins9labelsdf,n1labelsdf,n2labelsdf,n3labelsdf,n4labelsdf,n5labelsdf,n6labelsdf,n7labelsdf,n8labelsdf],ignore_index=True)"
   ]
  },
  {
   "cell_type": "code",
   "execution_count": 64,
   "id": "b1d38da4-c094-4c77-a339-4dbf2c9d696d",
   "metadata": {},
   "outputs": [],
   "source": [
    "Dataset=pd.concat([all_features,labelsall],axis=1)"
   ]
  },
  {
   "cell_type": "code",
   "execution_count": 63,
   "id": "569a802d-080f-440b-a3c1-7143a41e67ce",
   "metadata": {},
   "outputs": [
    {
     "data": {
      "text/plain": [
       "(19651, 1)"
      ]
     },
     "execution_count": 63,
     "metadata": {},
     "output_type": "execute_result"
    }
   ],
   "source": [
    "labelsall.shape"
   ]
  },
  {
   "cell_type": "code",
   "execution_count": 65,
   "id": "b7b6665c-2981-431b-a8c1-2a17b3edc272",
   "metadata": {},
   "outputs": [
    {
     "data": {
      "text/plain": [
       "(19651, 46)"
      ]
     },
     "execution_count": 65,
     "metadata": {},
     "output_type": "execute_result"
    }
   ],
   "source": [
    "Dataset.shape"
   ]
  },
  {
   "cell_type": "markdown",
   "id": "3e98442d-6a9f-4e1e-9230-617dcbbba143",
   "metadata": {},
   "source": [
    "<h1>Dataset To Csv</h1>"
   ]
  },
  {
   "cell_type": "code",
   "execution_count": 67,
   "id": "9eff49d7-8a05-4d73-bc2f-2dde1f0531fa",
   "metadata": {},
   "outputs": [],
   "source": [
    "Dataset.to_csv('InsomniafinalDataset.csv', index=False)"
   ]
  }
 ],
 "metadata": {
  "kernelspec": {
   "display_name": "Python 3 (ipykernel)",
   "language": "python",
   "name": "python3"
  },
  "language_info": {
   "codemirror_mode": {
    "name": "ipython",
    "version": 3
   },
   "file_extension": ".py",
   "mimetype": "text/x-python",
   "name": "python",
   "nbconvert_exporter": "python",
   "pygments_lexer": "ipython3",
   "version": "3.11.7"
  }
 },
 "nbformat": 4,
 "nbformat_minor": 5
}
